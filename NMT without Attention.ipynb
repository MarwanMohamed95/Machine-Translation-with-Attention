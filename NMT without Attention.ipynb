{
  "nbformat": 4,
  "nbformat_minor": 0,
  "metadata": {
    "colab": {
      "provenance": []
    },
    "kernelspec": {
      "name": "python3",
      "display_name": "Python 3"
    },
    "language_info": {
      "name": "python"
    },
    "gpuClass": "standard",
    "accelerator": "GPU"
  },
  "cells": [
    {
      "cell_type": "markdown",
      "source": [
        "# **Neural Machine Translation**\n",
        "\n",
        "This tutorial demonstrates how to train a sequence-to-sequence (seq2seq) model for Spanish-to-English translation (using the last hidden state of the encoder)."
      ],
      "metadata": {
        "id": "htbIu0nyfYi8"
      }
    },
    {
      "cell_type": "markdown",
      "source": [
        "### Installing and Importing Libraries"
      ],
      "metadata": {
        "id": "vV9pCgGtfmBN"
      }
    },
    {
      "cell_type": "code",
      "execution_count": 1,
      "metadata": {
        "id": "cXghu2Mh_DAU"
      },
      "outputs": [],
      "source": [
        "%%capture\n",
        "!pip install \"tensorflow-text>=2.11\""
      ]
    },
    {
      "cell_type": "code",
      "source": [
        "import numpy as np\n",
        "\n",
        "import matplotlib.pyplot as plt\n",
        "import matplotlib.ticker as ticker\n",
        "\n",
        "import tensorflow_text as tf_text\n",
        "import tensorflow as tf"
      ],
      "metadata": {
        "id": "rkAbO4Rf_J95"
      },
      "execution_count": 2,
      "outputs": []
    },
    {
      "cell_type": "markdown",
      "source": [
        "### Loading the data"
      ],
      "metadata": {
        "id": "xrKfVxz8fpem"
      }
    },
    {
      "cell_type": "code",
      "source": [
        "# Download the file\n",
        "import pathlib\n",
        "\n",
        "path_to_zip = tf.keras.utils.get_file('spa-eng.zip', origin='http://storage.googleapis.com/download.tensorflow.org/data/spa-eng.zip', extract=True)\n",
        "\n",
        "path_to_file = pathlib.Path(path_to_zip).parent/'spa-eng/spa.txt'"
      ],
      "metadata": {
        "id": "GnDO839k_LwT",
        "colab": {
          "base_uri": "https://localhost:8080/"
        },
        "outputId": "dfbb920b-88ce-4545-98cd-db8a13b085c7"
      },
      "execution_count": 3,
      "outputs": [
        {
          "output_type": "stream",
          "name": "stdout",
          "text": [
            "Downloading data from http://storage.googleapis.com/download.tensorflow.org/data/spa-eng.zip\n",
            "2638744/2638744 [==============================] - 1s 0us/step\n"
          ]
        }
      ]
    },
    {
      "cell_type": "code",
      "source": [
        "# reading the data\n",
        "def load_data(path):\n",
        "  # reading the data\n",
        "  text = path.read_text(encoding='utf-8')\n",
        "  lines = text.splitlines()\n",
        "\n",
        "  # splitting the data (source and target) by the separator tab\n",
        "  pairs = [line.split('\\t') for line in lines]\n",
        "\n",
        "  # context and target arrays\n",
        "  context = np.array([context for target, context in pairs])\n",
        "  target = np.array([target for target, context in pairs])\n",
        "\n",
        "  return context, target \n",
        "\n",
        "context_raw, target_raw = load_data(path_to_file)\n",
        "print(\"Number of Samples: \",len(context_raw))"
      ],
      "metadata": {
        "id": "vqKOXgs7_OkN",
        "colab": {
          "base_uri": "https://localhost:8080/"
        },
        "outputId": "dbcda375-8082-4833-b50f-6d4e54f92bdb"
      },
      "execution_count": 4,
      "outputs": [
        {
          "output_type": "stream",
          "name": "stdout",
          "text": [
            "Number of Samples:  118964\n"
          ]
        }
      ]
    },
    {
      "cell_type": "code",
      "source": [
        "context_raw[-1]"
      ],
      "metadata": {
        "colab": {
          "base_uri": "https://localhost:8080/",
          "height": 53
        },
        "id": "Ls8Majv_cIIC",
        "outputId": "a1f3ce03-7a85-4c0a-94f3-dcc9f58a5992"
      },
      "execution_count": 5,
      "outputs": [
        {
          "output_type": "execute_result",
          "data": {
            "text/plain": [
              "'Si quieres sonar como un hablante nativo, debes estar dispuesto a practicar diciendo la misma frase una y otra vez de la misma manera en que un músico de banjo practica el mismo fraseo una y otra vez hasta que lo puedan tocar correctamente y en el tiempo esperado.'"
            ],
            "application/vnd.google.colaboratory.intrinsic+json": {
              "type": "string"
            }
          },
          "metadata": {},
          "execution_count": 5
        }
      ]
    },
    {
      "cell_type": "code",
      "source": [
        "target_raw[-1]"
      ],
      "metadata": {
        "colab": {
          "base_uri": "https://localhost:8080/",
          "height": 53
        },
        "id": "nyLIl0IDcLIe",
        "outputId": "eac51444-cfd5-4525-b8ed-3a36a8cc5b4a"
      },
      "execution_count": 6,
      "outputs": [
        {
          "output_type": "execute_result",
          "data": {
            "text/plain": [
              "'If you want to sound like a native speaker, you must be willing to practice saying the same sentence over and over in the same way that banjo players practice the same phrase over and over until they can play it correctly and at the desired tempo.'"
            ],
            "application/vnd.google.colaboratory.intrinsic+json": {
              "type": "string"
            }
          },
          "metadata": {},
          "execution_count": 6
        }
      ]
    },
    {
      "cell_type": "markdown",
      "source": [
        "### Processing the data"
      ],
      "metadata": {
        "id": "7mSCAPIsfwu3"
      }
    },
    {
      "cell_type": "code",
      "source": [
        "# Creating a tf.data dataset of the strings that shuffles and batches\n",
        "BUFFER_SIZE = len(context_raw)\n",
        "BATCH_SIZE = 64\n",
        "\n",
        "is_train = np.random.uniform(size=(len(target_raw),)) < 0.8\n",
        "\n",
        "train_raw = (tf.data.Dataset.from_tensor_slices((context_raw[is_train], target_raw[is_train])).shuffle(BUFFER_SIZE).batch(BATCH_SIZE))\n",
        "val_raw = (tf.data.Dataset.from_tensor_slices((context_raw[~is_train], target_raw[~is_train])).shuffle(BUFFER_SIZE).batch(BATCH_SIZE))"
      ],
      "metadata": {
        "id": "dFrMzSFl_XLF"
      },
      "execution_count": 7,
      "outputs": []
    },
    {
      "cell_type": "code",
      "source": [
        "for example_context_strings, example_target_strings in train_raw.take(1):\n",
        "  print(example_context_strings[:5])\n",
        "  print()\n",
        "  print(example_target_strings[:5])\n",
        "  break"
      ],
      "metadata": {
        "colab": {
          "base_uri": "https://localhost:8080/"
        },
        "id": "TG5NkKBm_aPq",
        "outputId": "decbd559-239d-4fa1-e4fe-3e22fa358655"
      },
      "execution_count": 8,
      "outputs": [
        {
          "output_type": "stream",
          "name": "stdout",
          "text": [
            "tf.Tensor(\n",
            "[b'\\xc2\\xbfTe gustar\\xc3\\xada ver algunas fotos de mi viaje?'\n",
            " b'\\xc2\\xbfQuer\\xc3\\xa9is ir al zoo?' b'Es mejor que vayas a la cama.'\n",
            " b'Me baj\\xc3\\xa9 del auto en la calle 40.'\n",
            " b'Nos arrodillamos para rezar.'], shape=(5,), dtype=string)\n",
            "\n",
            "tf.Tensor(\n",
            "[b'Would you like to see some photos of my trip?'\n",
            " b'Do you want to go to the zoo?' b'You had better go to bed now.'\n",
            " b'I got out of the car at 40th Street.' b'We knelt down to pray.'], shape=(5,), dtype=string)\n"
          ]
        }
      ]
    },
    {
      "cell_type": "code",
      "source": [
        "# standardizing and processing the text\n",
        "def tf_lower_and_split_punct(text):\n",
        "  # Split accented characters.\n",
        "  text = tf_text.normalize_utf8(text, 'NFKD')\n",
        "  text = tf.strings.lower(text)\n",
        "  # Keep space, a to z, and select punctuation.\n",
        "  text = tf.strings.regex_replace(text, '[^ a-z.?!,¿]', '')\n",
        "  # Add spaces around punctuation.\n",
        "  text = tf.strings.regex_replace(text, '[.?!,¿]', r' \\0 ')\n",
        "  # Strip whitespace.\n",
        "  text = tf.strings.strip(text)\n",
        "  # prepend and append START and END tokens to each sentence in the context and target\n",
        "  text = tf.strings.join(['[START]', text, '[END]'], separator=' ')\n",
        "  return text"
      ],
      "metadata": {
        "id": "6AqTYuMG_fIP"
      },
      "execution_count": 9,
      "outputs": []
    },
    {
      "cell_type": "code",
      "source": [
        "example_text = tf.constant('¿Todavía está en casa?')\n",
        "print(example_text.numpy().decode())\n",
        "print(tf_lower_and_split_punct(example_text).numpy().decode())"
      ],
      "metadata": {
        "colab": {
          "base_uri": "https://localhost:8080/"
        },
        "id": "f22GA0n8cX4b",
        "outputId": "7d993e26-7010-4222-80e0-d55a76b6548d"
      },
      "execution_count": 10,
      "outputs": [
        {
          "output_type": "stream",
          "name": "stdout",
          "text": [
            "¿Todavía está en casa?\n",
            "[START] ¿ todavia esta en casa ? [END]\n"
          ]
        }
      ]
    },
    {
      "cell_type": "markdown",
      "source": [
        "This standardization function will be wrapped up in a tf.keras.layers.TextVectorization layer which will handle the vocabulary extraction and conversion of input text to sequences of tokens."
      ],
      "metadata": {
        "id": "TskucRhEf353"
      }
    },
    {
      "cell_type": "code",
      "source": [
        "max_vocab_size = 5000\n",
        "\n",
        "# the Spanish TextVectorization\n",
        "context_text_processor = tf.keras.layers.TextVectorization(standardize=tf_lower_and_split_punct, max_tokens=max_vocab_size, ragged=True)\n",
        "# This adapt method initializes the layer based on the data.\n",
        "context_text_processor.adapt(train_raw.map(lambda context, target: context))\n",
        "\n",
        "# The first 10 words from context the vocabulary\n",
        "context_text_processor.get_vocabulary()[:10]"
      ],
      "metadata": {
        "id": "nKtuCQXu_imi",
        "colab": {
          "base_uri": "https://localhost:8080/"
        },
        "outputId": "e8e06a2f-1743-4e3d-d090-db9543cf624c"
      },
      "execution_count": 11,
      "outputs": [
        {
          "output_type": "execute_result",
          "data": {
            "text/plain": [
              "['', '[UNK]', '[START]', '[END]', '.', 'que', 'de', 'el', 'a', 'no']"
            ]
          },
          "metadata": {},
          "execution_count": 11
        }
      ]
    },
    {
      "cell_type": "code",
      "source": [
        "# the English TextVectorization\n",
        "target_text_processor = tf.keras.layers.TextVectorization(standardize=tf_lower_and_split_punct, max_tokens=max_vocab_size, ragged=True)\n",
        "# This adapt method initializes the layer based on the data.\n",
        "target_text_processor.adapt(train_raw.map(lambda context, target: target))\n",
        "\n",
        "# The first 10 words from target the vocabulary\n",
        "target_text_processor.get_vocabulary()[:10]"
      ],
      "metadata": {
        "colab": {
          "base_uri": "https://localhost:8080/"
        },
        "id": "RXS9YzGc_oND",
        "outputId": "ba4d6f1b-5e9c-4bc6-9d38-33fa011751b3"
      },
      "execution_count": 12,
      "outputs": [
        {
          "output_type": "execute_result",
          "data": {
            "text/plain": [
              "['', '[UNK]', '[START]', '[END]', '.', 'the', 'i', 'to', 'you', 'tom']"
            ]
          },
          "metadata": {},
          "execution_count": 12
        }
      ]
    },
    {
      "cell_type": "code",
      "source": [
        "example_tokens = context_text_processor(example_context_strings)\n",
        "example_tokens[:3, :]"
      ],
      "metadata": {
        "colab": {
          "base_uri": "https://localhost:8080/"
        },
        "id": "qwnJuprb_pyu",
        "outputId": "61bba863-1d4b-42a9-b04e-89d3afcb3008"
      },
      "execution_count": 13,
      "outputs": [
        {
          "output_type": "execute_result",
          "data": {
            "text/plain": [
              "<tf.RaggedTensor [[2, 13, 30, 169, 113, 362, 811, 6, 24, 549, 12, 3],\n",
              " [2, 13, 1547, 68, 37, 2602, 12, 3],\n",
              " [2, 15, 114, 5, 776, 8, 11, 268, 4, 3]]>"
            ]
          },
          "metadata": {},
          "execution_count": 13
        }
      ]
    },
    {
      "cell_type": "code",
      "source": [
        "context_vocab = np.array(context_text_processor.get_vocabulary())\n",
        "tokens = context_vocab[example_tokens[0].numpy()]\n",
        "' '.join(tokens)"
      ],
      "metadata": {
        "colab": {
          "base_uri": "https://localhost:8080/",
          "height": 35
        },
        "id": "qaPBkXaR_rf2",
        "outputId": "0ac5ca08-8e6f-4af5-882e-68443732cf25"
      },
      "execution_count": 14,
      "outputs": [
        {
          "output_type": "execute_result",
          "data": {
            "text/plain": [
              "'[START] ¿ te gustaria ver algunas fotos de mi viaje ? [END]'"
            ],
            "application/vnd.google.colaboratory.intrinsic+json": {
              "type": "string"
            }
          },
          "metadata": {},
          "execution_count": 14
        }
      ]
    },
    {
      "cell_type": "code",
      "source": [
        "# The process_text function below converts the Datasets of strings, into 0-padded tensors of token IDs.\n",
        "# It also converts from a (context, target) pair to an ((context, target_in), target_out) pair for training with keras.Model.fit.\n",
        "# The difference between target_in and target_out is that they are shifted by one step relative to eachother,\n",
        "# so that at each location the label is the next token.\n",
        "def process_text(context, target):\n",
        "  # convert the context strings to 0-padded tensors of token IDs.\n",
        "  context = context_text_processor(context).to_tensor()\n",
        "  # convert the target strings to ragged tensors of token IDs.\n",
        "  target = target_text_processor(target)\n",
        "  # 0-padded target tensors of token IDs except the last token\n",
        "  targ_in = target[:,:-1].to_tensor()\n",
        "  # 0-padded target tensors of token IDs shifted by one step relative to targ_in\n",
        "  targ_out = target[:,1:].to_tensor()\n",
        "  return (context, targ_in), targ_out\n",
        "\n",
        "\n",
        "train_ds = train_raw.map(process_text, tf.data.AUTOTUNE)\n",
        "val_ds = val_raw.map(process_text, tf.data.AUTOTUNE)"
      ],
      "metadata": {
        "id": "adXIrR9t_tDV"
      },
      "execution_count": 15,
      "outputs": []
    },
    {
      "cell_type": "code",
      "source": [
        "for (context_tokens, target_tokens_in), target_tokens_out in train_ds.take(1):\n",
        "  print(context_tokens[0].numpy()) \n",
        "  print()\n",
        "  print(target_tokens_in[0].numpy()) \n",
        "  print(target_tokens_out[0].numpy())"
      ],
      "metadata": {
        "colab": {
          "base_uri": "https://localhost:8080/"
        },
        "id": "uTeohPwd_vDy",
        "outputId": "f143cd41-2b5a-459c-c43b-db7796ad3721"
      },
      "execution_count": 16,
      "outputs": [
        {
          "output_type": "stream",
          "name": "stdout",
          "text": [
            "[  2   1  27  10   7 282   4   3   0   0   0   0   0   0   0   0   0   0]\n",
            "\n",
            "[  2 117 170  36   9  34 354   4   0   0   0   0   0   0   0]\n",
            "[117 170  36   9  34 354   4   3   0   0   0   0   0   0   0]\n"
          ]
        }
      ]
    },
    {
      "cell_type": "markdown",
      "source": [
        "### Encoder\n",
        "\n",
        "The goal of the encoder is to process the context sequence into a sequence of vectors that are useful for the decoder as it attempts to predict the next output for each timestep.\n",
        "\n",
        "The encoder:\n",
        "\n",
        "1.   Takes a list of token IDs (from context_text_processor).\n",
        "2.   Looks up an embedding vector for each token (Using a layers.Embedding).\n",
        "3.   Processes the embeddings into a new sequence (Using a bidirectional layers.GRU).\n",
        "4.   Returns the last hidden state to be the input to the decoder.   "
      ],
      "metadata": {
        "id": "kiuDnEFOhJoP"
      }
    },
    {
      "cell_type": "code",
      "source": [
        "ENCODER_UNITS = 256\n",
        "DECODER_UNITS = 512"
      ],
      "metadata": {
        "id": "-bE6vMnq_wjo"
      },
      "execution_count": 17,
      "outputs": []
    },
    {
      "cell_type": "code",
      "source": [
        "class Encoder(tf.keras.layers.Layer):\n",
        "  def __init__(self, text_processor, units):\n",
        "    super(Encoder, self).__init__()\n",
        "    self.text_processor = text_processor\n",
        "    self.vocab_size = text_processor.vocabulary_size()\n",
        "    self.units = units\n",
        "\n",
        "    # The embedding layer converts tokens to vectors\n",
        "    self.embedding = tf.keras.layers.Embedding(self.vocab_size, units, mask_zero=True)\n",
        "\n",
        "    # The RNN layer processes those vectors sequentially.\n",
        "    self.rnn = tf.keras.layers.Bidirectional(\n",
        "        layer=tf.keras.layers.GRU(units, recurrent_initializer='glorot_uniform'))\n",
        "\n",
        "  def call(self, sourceTokens, state = None):\n",
        "\n",
        "    # The embedding layer looks up the embedding vector for each token.\n",
        "    sourceVectors = self.embedding(sourceTokens)\n",
        "\n",
        "    # The GRU processes the sequence of embeddings.\n",
        "    encOutput = self.rnn(inputs = sourceVectors,initial_state=state)\n",
        "\n",
        "    # Returns the new sequence of embeddings.\n",
        "    return encOutput\n",
        "\n",
        "  def convert_input(self, texts):\n",
        "    texts = tf.convert_to_tensor(texts)\n",
        "    if len(texts.shape) == 0:\n",
        "      texts = tf.convert_to_tensor(texts)[tf.newaxis]\n",
        "    context = self.text_processor(texts).to_tensor()\n",
        "    encOutput = self(context)\n",
        "    return encOutput"
      ],
      "metadata": {
        "id": "tU5D0_zk_yjz"
      },
      "execution_count": 29,
      "outputs": []
    },
    {
      "cell_type": "code",
      "source": [
        "# Encode the input sequence.\n",
        "encoder = Encoder(context_text_processor, ENCODER_UNITS)\n",
        "encOutput = encoder(context_tokens)\n",
        "\n",
        "print(f'Context tokens, shape (batch, s): {context_tokens.shape}')\n",
        "print(f'Encoder output, shape (batch, s, units): {encOutput.shape}')"
      ],
      "metadata": {
        "colab": {
          "base_uri": "https://localhost:8080/"
        },
        "id": "opEJOZqU_0c-",
        "outputId": "a6afcda7-116a-412a-ce54-a269554266ed"
      },
      "execution_count": 30,
      "outputs": [
        {
          "output_type": "stream",
          "name": "stdout",
          "text": [
            "Context tokens, shape (batch, s): (64, 18)\n",
            "Encoder output, shape (batch, s, units): (64, 512)\n"
          ]
        }
      ]
    },
    {
      "cell_type": "markdown",
      "source": [
        "### The decoder\n",
        "The decoder's job is to generate predictions for the next token at each location in the target sequence.\n",
        "\n",
        "1.   It looks up embeddings for each token in the target sequence.\n",
        "2.   It uses an RNN to process the target sequence, and keep track of what it has generated so far.\n",
        "3.   It uses RNN output as input to feedforward network to predict the next token."
      ],
      "metadata": {
        "id": "i_Qy5SIQhUNV"
      }
    },
    {
      "cell_type": "code",
      "source": [
        "class Decoder(tf.keras.layers.Layer):\n",
        "  @classmethod\n",
        "  def add_method(cls, fun):\n",
        "    setattr(cls, fun.__name__, fun)\n",
        "    return fun\n",
        "\n",
        "  def __init__(self, text_processor, units):\n",
        "    super(Decoder, self).__init__()\n",
        "    self.text_processor = text_processor\n",
        "    self.vocab_size = text_processor.vocabulary_size()\n",
        "\n",
        "    self.units = units\n",
        "\n",
        "    # The embedding layer converts token IDs to vectors\n",
        "    self.embedding = tf.keras.layers.Embedding(self.vocab_size, units, mask_zero=True)\n",
        "\n",
        "    # The RNN keeps track of what's been generated so far.\n",
        "    self.rnn = tf.keras.layers.GRU(units, return_sequences=True, return_state=True, recurrent_initializer='glorot_uniform')\n",
        "\n",
        "    # This fully connected layer produces the logits for each output token.\n",
        "    self.fwdNeuralNet = tf.keras.models.Sequential([tf.keras.layers.Dense(units=self.units, activation=\"tanh\", use_bias=False,),\n",
        "                        tf.keras.layers.Dense(units=self.vocab_size,),])"
      ],
      "metadata": {
        "id": "Sl3Vxv6WAI4k"
      },
      "execution_count": 31,
      "outputs": []
    },
    {
      "cell_type": "code",
      "source": [
        "@Decoder.add_method\n",
        "def call(self, encOutput, targetTokens, state=None, return_state=False):  \n",
        "\n",
        "  # 1. Lookup the embeddings\n",
        "  targetVectors = self.embedding(targetTokens)\n",
        "\n",
        "  # 2. Process the target sequence.\n",
        "  # process one step with the GRU\n",
        "  (decOutput, decState) = self.rnn(inputs=targetVectors, initial_state=state,)\n",
        "\n",
        "  logits = self.fwdNeuralNet(decOutput)\n",
        "\n",
        "  if return_state:\n",
        "    return logits, decState\n",
        "  else:\n",
        "    return logits"
      ],
      "metadata": {
        "id": "Y1nlENfKANVu"
      },
      "execution_count": 32,
      "outputs": []
    },
    {
      "cell_type": "code",
      "source": [
        "decoder = Decoder(target_text_processor, DECODER_UNITS)"
      ],
      "metadata": {
        "id": "uJBY8sWQASyh"
      },
      "execution_count": 33,
      "outputs": []
    },
    {
      "cell_type": "code",
      "source": [
        "logits = decoder(encOutput, target_tokens_in)\n",
        "\n",
        "print(f'encoder output shape: (batch, s, units) {encOutput.shape}')\n",
        "print(f'input target tokens shape: (batch, t) {target_tokens_in.shape}')\n",
        "print(f'logits shape shape: (batch, target_vocabulary_size) {logits.shape}')"
      ],
      "metadata": {
        "colab": {
          "base_uri": "https://localhost:8080/"
        },
        "id": "8lkf0NkgAWAF",
        "outputId": "b40b7b28-ade7-4cd0-f509-aee4439aa676"
      },
      "execution_count": 34,
      "outputs": [
        {
          "output_type": "stream",
          "name": "stdout",
          "text": [
            "encoder output shape: (batch, s, units) (64, 512)\n",
            "input target tokens shape: (batch, t) (64, 15)\n",
            "logits shape shape: (batch, target_vocabulary_size) (64, 15, 5000)\n"
          ]
        }
      ]
    },
    {
      "cell_type": "markdown",
      "source": [
        "### The model\n",
        "Now that we have all the model components, combine them to build the model for training."
      ],
      "metadata": {
        "id": "0iDN3poQkbdm"
      }
    },
    {
      "cell_type": "code",
      "source": [
        "class Translator(tf.keras.Model):\n",
        "  @classmethod\n",
        "  def add_method(cls, fun):\n",
        "    setattr(cls, fun.__name__, fun)\n",
        "    return fun\n",
        "\n",
        "  def __init__(self, units, context_text_processor, target_text_processor):\n",
        "    super().__init__()\n",
        "    # Build the encoder and decoder\n",
        "    enc_units = units\n",
        "    dec_units = units*2\n",
        "    encoder = Encoder(context_text_processor, enc_units)\n",
        "    decoder = Decoder(target_text_processor, dec_units)\n",
        "\n",
        "    self.encoder = encoder\n",
        "    self.decoder = decoder\n",
        "\n",
        "    # target text processor\n",
        "    self.text_processor = target_text_processor\n",
        "    self.vocab_size = self.text_processor.vocabulary_size()\n",
        "    self.word_to_id = tf.keras.layers.StringLookup(vocabulary = self.text_processor.get_vocabulary(), mask_token='', oov_token='[UNK]')\n",
        "    self.id_to_word = tf.keras.layers.StringLookup(vocabulary = self.text_processor.get_vocabulary(), mask_token='', oov_token='[UNK]', invert=True)\n",
        "    self.start_token = self.word_to_id('[START]')\n",
        "    self.end_token = self.word_to_id('[END]')\n",
        "\n",
        "  def call(self, inputs):\n",
        "    context, target_in = inputs\n",
        "    encOutput = self.encoder(context)\n",
        "    logits = self.decoder(encOutput, target_in,state = encOutput)\n",
        "\n",
        "    try:\n",
        "      # Delete the keras mask, so keras doesn't scale the loss+accuracy. \n",
        "      del logits._keras_mask\n",
        "    except AttributeError:\n",
        "      pass\n",
        "\n",
        "    return logits"
      ],
      "metadata": {
        "id": "PaZXjgUvAd8R"
      },
      "execution_count": 36,
      "outputs": []
    },
    {
      "cell_type": "code",
      "source": [
        "model = Translator(ENCODER_UNITS, context_text_processor, target_text_processor)\n",
        "\n",
        "logits = model((context_tokens, target_tokens_in))\n",
        "\n",
        "print(f'Context tokens, shape: (batch, s, units) {context_tokens.shape}')\n",
        "print(f'Target tokens, shape: (batch, t) {target_tokens_in.shape}')\n",
        "print(f'logits, shape: (batch, t, target_vocabulary_size) {logits.shape}')"
      ],
      "metadata": {
        "colab": {
          "base_uri": "https://localhost:8080/"
        },
        "id": "5q6H-1zXecKe",
        "outputId": "15420649-2b08-4b49-fcd7-83a1dc0327d4"
      },
      "execution_count": 37,
      "outputs": [
        {
          "output_type": "stream",
          "name": "stdout",
          "text": [
            "Context tokens, shape: (batch, s, units) (64, 18)\n",
            "Target tokens, shape: (batch, t) (64, 15)\n",
            "logits, shape: (batch, t, target_vocabulary_size) (64, 15, 5000)\n"
          ]
        }
      ]
    },
    {
      "cell_type": "markdown",
      "source": [
        "For training, you'll want to implement your own masked loss and accuracy functions"
      ],
      "metadata": {
        "id": "Je6UydsIkhoX"
      }
    },
    {
      "cell_type": "code",
      "source": [
        "@Translator.add_method\n",
        "def tokens_to_text(self, tokens):\n",
        "  words = self.id_to_word(tokens)\n",
        "  result = tf.strings.reduce_join(words, axis=-1, separator=' ')\n",
        "  result = tf.strings.regex_replace(result, '^ *\\[START\\] *', '')\n",
        "  result = tf.strings.regex_replace(result, ' *\\[END\\] *$', '')\n",
        "  return result"
      ],
      "metadata": {
        "id": "D4xC4-101FL7"
      },
      "execution_count": 38,
      "outputs": []
    },
    {
      "cell_type": "code",
      "source": [
        "def masked_loss(y_true, y_pred):\n",
        "    # Calculate the loss for each item in the batch.\n",
        "    loss_fn = tf.keras.losses.SparseCategoricalCrossentropy(from_logits=True, reduction='none')\n",
        "    loss = loss_fn(y_true, y_pred)\n",
        "\n",
        "    # Mask off the losses on padding.\n",
        "    mask = tf.cast(y_true != 0, loss.dtype)\n",
        "    loss *= mask\n",
        "\n",
        "    # Return the total.\n",
        "    return tf.reduce_sum(loss)/tf.reduce_sum(mask)"
      ],
      "metadata": {
        "id": "BIfcxkVcAiIJ"
      },
      "execution_count": 39,
      "outputs": []
    },
    {
      "cell_type": "code",
      "source": [
        "def masked_acc(y_true, y_pred):\n",
        "    # Calculate the loss for each item in the batch.\n",
        "    y_pred = tf.argmax(y_pred, axis=-1)\n",
        "    y_pred = tf.cast(y_pred, y_true.dtype)\n",
        "\n",
        "    match = tf.cast(y_true == y_pred, tf.float32)\n",
        "    mask = tf.cast(y_true != 0, tf.float32)\n",
        "\n",
        "    return tf.reduce_sum(match)/tf.reduce_sum(mask)"
      ],
      "metadata": {
        "id": "Xbd_JJoJAlI0"
      },
      "execution_count": 40,
      "outputs": []
    },
    {
      "cell_type": "code",
      "source": [
        "model.compile(optimizer='adam', loss=masked_loss, metrics=[masked_acc, masked_loss])"
      ],
      "metadata": {
        "id": "hbqf_SPDAmqn"
      },
      "execution_count": 41,
      "outputs": []
    },
    {
      "cell_type": "code",
      "source": [
        "model.evaluate(val_ds, steps=20, return_dict=True)"
      ],
      "metadata": {
        "colab": {
          "base_uri": "https://localhost:8080/"
        },
        "id": "i2jFFkmwAoCL",
        "outputId": "03a85ba3-dfa0-4aae-9c73-f876c6373a56"
      },
      "execution_count": 42,
      "outputs": [
        {
          "output_type": "stream",
          "name": "stdout",
          "text": [
            "20/20 [==============================] - 8s 28ms/step - loss: 8.5166 - masked_acc: 1.0931 - masked_loss: 8.5166\n"
          ]
        },
        {
          "output_type": "execute_result",
          "data": {
            "text/plain": [
              "{'loss': 8.516606330871582,\n",
              " 'masked_acc': 1.0930899381637573,\n",
              " 'masked_loss': 8.516606330871582}"
            ]
          },
          "metadata": {},
          "execution_count": 42
        }
      ]
    },
    {
      "cell_type": "code",
      "source": [
        "train_steps = 1000\n",
        "val_steps = 300\n",
        "\n",
        "history = model.fit(train_ds.repeat(), \n",
        "                    epochs=30, steps_per_epoch = train_steps, \n",
        "                    validation_data=val_ds, validation_steps = val_steps,\n",
        "                    callbacks = [tf.keras.callbacks.EarlyStopping(patience=2)])"
      ],
      "metadata": {
        "colab": {
          "base_uri": "https://localhost:8080/"
        },
        "id": "07KIzjUHArEQ",
        "outputId": "e7eb1aad-d112-45b6-98d6-95521a4b9c5b"
      },
      "execution_count": 43,
      "outputs": [
        {
          "output_type": "stream",
          "name": "stdout",
          "text": [
            "Epoch 1/30\n",
            "1000/1000 [==============================] - 85s 70ms/step - loss: 4.0348 - masked_acc: 0.3522 - masked_loss: 4.0348 - val_loss: 3.0917 - val_masked_acc: 0.4527 - val_masked_loss: 3.0917\n",
            "Epoch 2/30\n",
            "1000/1000 [==============================] - 46s 46ms/step - loss: 2.5719 - masked_acc: 0.5260 - masked_loss: 2.5720 - val_loss: 2.1912 - val_masked_acc: 0.5793 - val_masked_loss: 2.1912\n",
            "Epoch 3/30\n",
            "1000/1000 [==============================] - 44s 44ms/step - loss: 1.9170 - masked_acc: 0.6230 - masked_loss: 1.9172 - val_loss: 1.7430 - val_masked_acc: 0.6509 - val_masked_loss: 1.7430\n",
            "Epoch 4/30\n",
            "1000/1000 [==============================] - 44s 44ms/step - loss: 1.4266 - masked_acc: 0.6991 - masked_loss: 1.4266 - val_loss: 1.5272 - val_masked_acc: 0.6890 - val_masked_loss: 1.5272\n",
            "Epoch 5/30\n",
            "1000/1000 [==============================] - 43s 43ms/step - loss: 1.1963 - masked_acc: 0.7390 - masked_loss: 1.1961 - val_loss: 1.4250 - val_masked_acc: 0.7088 - val_masked_loss: 1.4250\n",
            "Epoch 6/30\n",
            "1000/1000 [==============================] - 42s 42ms/step - loss: 1.0675 - masked_acc: 0.7597 - masked_loss: 1.0676 - val_loss: 1.3464 - val_masked_acc: 0.7239 - val_masked_loss: 1.3464\n",
            "Epoch 7/30\n",
            "1000/1000 [==============================] - 42s 42ms/step - loss: 0.8289 - masked_acc: 0.8034 - masked_loss: 0.8289 - val_loss: 1.3548 - val_masked_acc: 0.7243 - val_masked_loss: 1.3548\n",
            "Epoch 8/30\n",
            "1000/1000 [==============================] - 42s 42ms/step - loss: 0.7430 - masked_acc: 0.8203 - masked_loss: 0.7430 - val_loss: 1.3498 - val_masked_acc: 0.7294 - val_masked_loss: 1.3498\n"
          ]
        }
      ]
    },
    {
      "cell_type": "code",
      "source": [
        "plt.plot(history.history['loss'], label='loss')\n",
        "plt.plot(history.history['val_loss'], label='val_loss')\n",
        "plt.ylim([0, max(plt.ylim())])\n",
        "plt.xlabel('Epoch #')\n",
        "plt.legend()\n",
        "plt.show()"
      ],
      "metadata": {
        "colab": {
          "base_uri": "https://localhost:8080/",
          "height": 449
        },
        "id": "Q5gC6lPcep1S",
        "outputId": "be0bb15b-858d-4653-9ece-39a92f543372"
      },
      "execution_count": 44,
      "outputs": [
        {
          "output_type": "display_data",
          "data": {
            "text/plain": [
              "<Figure size 640x480 with 1 Axes>"
            ],
            "image/png": "[encoded data removed]"
          },
          "metadata": {}
        }
      ]
    },
    {
      "cell_type": "code",
      "source": [
        "plt.plot(history.history['masked_acc'], label='accuracy')\n",
        "plt.plot(history.history['val_masked_acc'], label='val_accuracy')\n",
        "plt.ylim([0, max(plt.ylim())])\n",
        "plt.xlabel('Epoch #')\n",
        "plt.legend()\n",
        "plt.show()"
      ],
      "metadata": {
        "colab": {
          "base_uri": "https://localhost:8080/",
          "height": 449
        },
        "id": "zJYzx-reer-b",
        "outputId": "48495f22-a981-4c8c-fb40-5b5bba2fe181"
      },
      "execution_count": 45,
      "outputs": [
        {
          "output_type": "display_data",
          "data": {
            "text/plain": [
              "<Figure size 640x480 with 1 Axes>"
            ],
            "image/png": "[encoded data removed]"
          },
          "metadata": {}
        }
      ]
    },
    {
      "cell_type": "code",
      "source": [
        "# model evaluation after training\n",
        "model.evaluate(val_ds, steps=20, return_dict=True)"
      ],
      "metadata": {
        "colab": {
          "base_uri": "https://localhost:8080/"
        },
        "id": "ACP8zJbjewna",
        "outputId": "81bf77ab-71f1-48c4-e2ab-fcfd99f145c8"
      },
      "execution_count": 46,
      "outputs": [
        {
          "output_type": "stream",
          "name": "stdout",
          "text": [
            "20/20 [==============================] - 1s 28ms/step - loss: 1.3536 - masked_acc: 0.7237 - masked_loss: 1.3536\n"
          ]
        },
        {
          "output_type": "execute_result",
          "data": {
            "text/plain": [
              "{'loss': 1.353553056716919,\n",
              " 'masked_acc': 0.7237287759780884,\n",
              " 'masked_loss': 1.353553056716919}"
            ]
          },
          "metadata": {},
          "execution_count": 46
        }
      ]
    },
    {
      "cell_type": "code",
      "source": [
        "#  This function to execute the full text => text translation.\n",
        "@Translator.add_method\n",
        "def translate(self, texts, *, max_length=50, temperature=0.0):\n",
        "  # Process the input texts\n",
        "  encOutput = self.encoder.convert_input(texts)\n",
        "  state = encOutput\n",
        "  batch_size = tf.shape(texts)[0]\n",
        "  # Setup the loop inputs\n",
        "  tokens = []\n",
        "  next_token = tf.fill([batch_size, 1], self.start_token)\n",
        "  done = tf.zeros([batch_size, 1], dtype=tf.bool)\n",
        "  \n",
        "  for _ in range(max_length):\n",
        "    logits, state = self.decoder(encOutput, next_token,state = state,return_state=True)\n",
        "    if temperature == 0.0:\n",
        "      next_token = tf.argmax(logits, axis=-1)\n",
        "    else:\n",
        "      logits = logits[:, -1, :]/temperature\n",
        "      next_token = tf.random.categorical(logits, num_samples=1)\n",
        "\n",
        "    # If a sequence produces an `end_token`, set it `done`\n",
        "    done = done | (next_token == self.end_token)\n",
        "    # Once a sequence is done it only produces 0-padding.\n",
        "    next_token = tf.where(done, tf.constant(0, dtype=tf.int64), next_token)\n",
        "    # Collect the generated tokens\n",
        "    tokens.append(next_token)\n",
        "\n",
        "    if tf.executing_eagerly() and tf.reduce_all(done):\n",
        "      break\n",
        "  # Stack the lists of tokens and attention weights.\n",
        "  tokens = tf.concat(tokens, axis=-1)   # t*[(batch 1)] -> (batch, t)\n",
        "\n",
        "  result = self.tokens_to_text(tokens)\n",
        "  return result"
      ],
      "metadata": {
        "id": "Z1gX40B7iEkk"
      },
      "execution_count": 52,
      "outputs": []
    },
    {
      "cell_type": "code",
      "source": [
        "result = model.translate(['¿Todavía está en casa?']) # Are you still home\n",
        "result[0].numpy().decode()"
      ],
      "metadata": {
        "colab": {
          "base_uri": "https://localhost:8080/",
          "height": 35
        },
        "id": "VERQfKX8Y25W",
        "outputId": "79b71519-b643-4984-cd7b-aa6b6f1c8029"
      },
      "execution_count": 53,
      "outputs": [
        {
          "output_type": "execute_result",
          "data": {
            "text/plain": [
              "'is he still at home ? '"
            ],
            "application/vnd.google.colaboratory.intrinsic+json": {
              "type": "string"
            }
          },
          "metadata": {},
          "execution_count": 53
        }
      ]
    },
    {
      "cell_type": "code",
      "source": [
        "inputs = [\n",
        "    'Hace mucho frio aqui.', # \"It's really cold here.\"\n",
        "    'Esta es mi vida.', # \"This is my life.\"\n",
        "    'Su cuarto es un desastre.' # \"His room is a mess\"\n",
        "]"
      ],
      "metadata": {
        "id": "QK4OQ9inZ_yS"
      },
      "execution_count": 54,
      "outputs": []
    },
    {
      "cell_type": "code",
      "source": [
        "for t in inputs:\n",
        "  print(model.translate([t])[0].numpy().decode())"
      ],
      "metadata": {
        "colab": {
          "base_uri": "https://localhost:8080/"
        },
        "id": "yWYptJrv9xlO",
        "outputId": "c1b02971-2869-4148-a2f7-daa0c385a5e2"
      },
      "execution_count": 56,
      "outputs": [
        {
          "output_type": "stream",
          "name": "stdout",
          "text": [
            "its very cold here . \n",
            "this is my life . \n",
            "his rooms a mess . \n"
          ]
        }
      ]
    },
    {
      "cell_type": "code",
      "source": [
        "long_text = context_raw[-1]\n",
        "long_text"
      ],
      "metadata": {
        "colab": {
          "base_uri": "https://localhost:8080/",
          "height": 53
        },
        "id": "SPzUDEGCpeFQ",
        "outputId": "79913490-56be-49d6-d829-0b28e6767295"
      },
      "execution_count": 57,
      "outputs": [
        {
          "output_type": "execute_result",
          "data": {
            "text/plain": [
              "'Si quieres sonar como un hablante nativo, debes estar dispuesto a practicar diciendo la misma frase una y otra vez de la misma manera en que un músico de banjo practica el mismo fraseo una y otra vez hasta que lo puedan tocar correctamente y en el tiempo esperado.'"
            ],
            "application/vnd.google.colaboratory.intrinsic+json": {
              "type": "string"
            }
          },
          "metadata": {},
          "execution_count": 57
        }
      ]
    },
    {
      "cell_type": "code",
      "source": [
        "result = model.translate([long_text]) # Are you still home\n",
        "result[0].numpy().decode()"
      ],
      "metadata": {
        "colab": {
          "base_uri": "https://localhost:8080/",
          "height": 53
        },
        "id": "vmFD9xncpsv5",
        "outputId": "df56de53-a94c-4da6-9dde-582a3744126e"
      },
      "execution_count": 58,
      "outputs": [
        {
          "output_type": "execute_result",
          "data": {
            "text/plain": [
              "'if you want to sound like a native speaker , you need to know about it . just at least one , but you know , only about the same time that banjo and only sound of the [UNK] [UNK] over and over and over the same [UNK] of the'"
            ],
            "application/vnd.google.colaboratory.intrinsic+json": {
              "type": "string"
            }
          },
          "metadata": {},
          "execution_count": 58
        }
      ]
    },
    {
      "cell_type": "markdown",
      "source": [
        "### Saving the model\n",
        "\n",
        "we'll need to wrap the translate method in a tf.function."
      ],
      "metadata": {
        "id": "RXcN95nVk1Uu"
      }
    },
    {
      "cell_type": "code",
      "source": [
        "class Export(tf.Module):\n",
        "  def __init__(self, model):\n",
        "    self.model = model\n",
        "\n",
        "  @tf.function(input_signature=[tf.TensorSpec(dtype=tf.string, shape=[None])])\n",
        "  def translate(self, inputs):\n",
        "    return self.model.translate(inputs)"
      ],
      "metadata": {
        "id": "i26yr3bd9_2b"
      },
      "execution_count": 59,
      "outputs": []
    },
    {
      "cell_type": "code",
      "source": [
        "export = Export(model)\n",
        "_ = export.translate(tf.constant(inputs))"
      ],
      "metadata": {
        "id": "LgKlJwLC-Jf1"
      },
      "execution_count": 60,
      "outputs": []
    },
    {
      "cell_type": "code",
      "source": [
        "result = export.translate(tf.constant(inputs))\n",
        "\n",
        "print(result[0].numpy().decode())\n",
        "print(result[1].numpy().decode())\n",
        "print(result[2].numpy().decode())\n",
        "print()"
      ],
      "metadata": {
        "id": "Xn5MkHlv-OzR",
        "colab": {
          "base_uri": "https://localhost:8080/"
        },
        "outputId": "49ddbab2-36f2-47b8-c852-1c9a599f63c4"
      },
      "execution_count": 61,
      "outputs": [
        {
          "output_type": "stream",
          "name": "stdout",
          "text": [
            "its very cold here .                                             \n",
            "this is my life .                                             \n",
            "his rooms a mess .                                             \n",
            "\n"
          ]
        }
      ]
    },
    {
      "cell_type": "code",
      "source": [
        "tf.saved_model.save(export, 'translator', signatures={'serving_default': export.translate})"
      ],
      "metadata": {
        "id": "ZMOilRsR-skt",
        "colab": {
          "base_uri": "https://localhost:8080/"
        },
        "outputId": "0ed6c3e8-843a-4a59-f26f-cab74e0f187d"
      },
      "execution_count": 62,
      "outputs": [
        {
          "output_type": "stream",
          "name": "stderr",
          "text": [
            "WARNING:tensorflow:Model's `__init__()` arguments contain non-serializable objects. Please implement a `get_config()` method in the subclassed Model for proper saving and loading. Defaulting to empty config.\n",
            "WARNING:tensorflow:Model's `__init__()` arguments contain non-serializable objects. Please implement a `get_config()` method in the subclassed Model for proper saving and loading. Defaulting to empty config.\n",
            "WARNING:absl:Found untraced functions such as embedding_7_layer_call_fn, embedding_7_layer_call_and_return_conditional_losses, embedding_8_layer_call_fn, embedding_8_layer_call_and_return_conditional_losses, gru_cell_22_layer_call_fn while saving (showing 5 of 10). These functions will not be directly callable after loading.\n"
          ]
        }
      ]
    },
    {
      "cell_type": "code",
      "source": [
        "reloaded = tf.saved_model.load('translator')\n",
        "_ = reloaded.translate(tf.constant(inputs)) #warmup"
      ],
      "metadata": {
        "id": "z8xPm0HD-zml"
      },
      "execution_count": 63,
      "outputs": []
    },
    {
      "cell_type": "code",
      "source": [
        "result = reloaded.translate(tf.constant(inputs))\n",
        "\n",
        "print(result[0].numpy().decode())\n",
        "print(result[1].numpy().decode())\n",
        "print(result[2].numpy().decode())\n",
        "print()"
      ],
      "metadata": {
        "id": "452a45Im_Yuf",
        "colab": {
          "base_uri": "https://localhost:8080/"
        },
        "outputId": "aaa472b7-d5f6-4b82-afbb-48e50c5d98d1"
      },
      "execution_count": 64,
      "outputs": [
        {
          "output_type": "stream",
          "name": "stdout",
          "text": [
            "its very cold here .                                             \n",
            "this is my life .                                             \n",
            "his rooms a mess .                                             \n",
            "\n"
          ]
        }
      ]
    },
    {
      "cell_type": "markdown",
      "source": [
        "The short sentences often work well, but if the input is too long the model literally loses focus and stops providing reasonable predictions."
      ],
      "metadata": {
        "id": "PWJfqVSoo_rq"
      }
    },
    {
      "cell_type": "code",
      "source": [],
      "metadata": {
        "id": "pAJITY1o_w7G"
      },
      "execution_count": 64,
      "outputs": []
    }
  ]
}