{
  "nbformat": 4,
  "nbformat_minor": 0,
  "metadata": {
    "colab": {
      "provenance": []
    },
    "kernelspec": {
      "name": "python3",
      "display_name": "Python 3"
    },
    "language_info": {
      "name": "python"
    },
    "gpuClass": "standard",
    "accelerator": "GPU"
  },
  "cells": [
    {
      "cell_type": "markdown",
      "source": [
        "# **Neural Machine Translation**\n",
        "\n",
        "This tutorial demonstrates how to train a sequence-to-sequence (seq2seq) model for Spanish-to-English translation using [Luong’s Attention](https://arxiv.org/abs/1508.04025)"
      ],
      "metadata": {
        "id": "B50XLdSe9Sv3"
      }
    },
    {
      "cell_type": "markdown",
      "source": [
        "### Installing and Importing Libraries"
      ],
      "metadata": {
        "id": "vQeEejgMVq4n"
      }
    },
    {
      "cell_type": "code",
      "execution_count": 1,
      "metadata": {
        "id": "cXghu2Mh_DAU"
      },
      "outputs": [],
      "source": [
        "%%capture\n",
        "!pip install \"tensorflow-text>=2.11\""
      ]
    },
    {
      "cell_type": "code",
      "source": [
        "import numpy as np\n",
        "\n",
        "import matplotlib.pyplot as plt\n",
        "import matplotlib.ticker as ticker\n",
        "\n",
        "import tensorflow_text as tf_text\n",
        "import tensorflow as tf"
      ],
      "metadata": {
        "id": "rkAbO4Rf_J95"
      },
      "execution_count": 2,
      "outputs": []
    },
    {
      "cell_type": "markdown",
      "source": [
        "### Loading the data"
      ],
      "metadata": {
        "id": "UQ5Xmk9yWFS9"
      }
    },
    {
      "cell_type": "code",
      "source": [
        "# Download the file\n",
        "import pathlib\n",
        "\n",
        "path_to_zip = tf.keras.utils.get_file('spa-eng.zip', origin='http://storage.googleapis.com/download.tensorflow.org/data/spa-eng.zip', extract=True)\n",
        "\n",
        "path_to_file = pathlib.Path(path_to_zip).parent/'spa-eng/spa.txt'"
      ],
      "metadata": {
        "id": "GnDO839k_LwT",
        "colab": {
          "base_uri": "https://localhost:8080/"
        },
        "outputId": "65ca81e9-396d-4376-eee8-3308608514de"
      },
      "execution_count": 3,
      "outputs": [
        {
          "output_type": "stream",
          "name": "stdout",
          "text": [
            "Downloading data from http://storage.googleapis.com/download.tensorflow.org/data/spa-eng.zip\n",
            "2638744/2638744 [==============================] - 0s 0us/step\n"
          ]
        }
      ]
    },
    {
      "cell_type": "code",
      "source": [
        "# reading the data\n",
        "def load_data(path):\n",
        "  # reading the data\n",
        "  text = path.read_text(encoding='utf-8')\n",
        "  lines = text.splitlines()\n",
        "\n",
        "  # splitting the data (source and target) by the separator tab\n",
        "  pairs = [line.split('\\t') for line in lines]\n",
        "\n",
        "  # context and target arrays\n",
        "  context = np.array([context for target, context in pairs])\n",
        "  target = np.array([target for target, context in pairs])\n",
        "\n",
        "  return context, target \n",
        "\n",
        "context_raw, target_raw = load_data(path_to_file)\n",
        "print(\"Number of Samples: \",len(context_raw))"
      ],
      "metadata": {
        "id": "vqKOXgs7_OkN",
        "colab": {
          "base_uri": "https://localhost:8080/"
        },
        "outputId": "0be48b23-5225-4770-a4b6-7b2c174b40ac"
      },
      "execution_count": 4,
      "outputs": [
        {
          "output_type": "stream",
          "name": "stdout",
          "text": [
            "Number of Samples:  118964\n"
          ]
        }
      ]
    },
    {
      "cell_type": "code",
      "source": [
        "context_raw[-1]"
      ],
      "metadata": {
        "colab": {
          "base_uri": "https://localhost:8080/",
          "height": 53
        },
        "id": "pDcab6XI5pVW",
        "outputId": "51755a49-bc2c-4e49-e3e4-1323232aff6f"
      },
      "execution_count": 5,
      "outputs": [
        {
          "output_type": "execute_result",
          "data": {
            "text/plain": [
              "'Si quieres sonar como un hablante nativo, debes estar dispuesto a practicar diciendo la misma frase una y otra vez de la misma manera en que un músico de banjo practica el mismo fraseo una y otra vez hasta que lo puedan tocar correctamente y en el tiempo esperado.'"
            ],
            "application/vnd.google.colaboratory.intrinsic+json": {
              "type": "string"
            }
          },
          "metadata": {},
          "execution_count": 5
        }
      ]
    },
    {
      "cell_type": "code",
      "source": [
        "target_raw[-1]"
      ],
      "metadata": {
        "colab": {
          "base_uri": "https://localhost:8080/",
          "height": 53
        },
        "id": "PZwbsB8O5_Ix",
        "outputId": "0c050bef-7d17-42af-97c4-a59136203550"
      },
      "execution_count": 6,
      "outputs": [
        {
          "output_type": "execute_result",
          "data": {
            "text/plain": [
              "'If you want to sound like a native speaker, you must be willing to practice saying the same sentence over and over in the same way that banjo players practice the same phrase over and over until they can play it correctly and at the desired tempo.'"
            ],
            "application/vnd.google.colaboratory.intrinsic+json": {
              "type": "string"
            }
          },
          "metadata": {},
          "execution_count": 6
        }
      ]
    },
    {
      "cell_type": "markdown",
      "source": [
        "### Processing the data"
      ],
      "metadata": {
        "id": "vaGe5mu1W3bh"
      }
    },
    {
      "cell_type": "code",
      "source": [
        "# Creating a tf.data dataset of the strings that shuffles and batches\n",
        "BUFFER_SIZE = len(context_raw)\n",
        "BATCH_SIZE = 64\n",
        "\n",
        "is_train = np.random.uniform(size=(len(target_raw),)) < 0.8\n",
        "\n",
        "train_raw = (tf.data.Dataset.from_tensor_slices((context_raw[is_train], target_raw[is_train])).shuffle(BUFFER_SIZE).batch(BATCH_SIZE))\n",
        "val_raw = (tf.data.Dataset.from_tensor_slices((context_raw[~is_train], target_raw[~is_train])).shuffle(BUFFER_SIZE).batch(BATCH_SIZE))"
      ],
      "metadata": {
        "id": "dFrMzSFl_XLF"
      },
      "execution_count": 7,
      "outputs": []
    },
    {
      "cell_type": "code",
      "source": [
        "for example_context_strings, example_target_strings in train_raw.take(1):\n",
        "  print(example_context_strings[:5])\n",
        "  print()\n",
        "  print(example_target_strings[:5])"
      ],
      "metadata": {
        "colab": {
          "base_uri": "https://localhost:8080/"
        },
        "id": "TG5NkKBm_aPq",
        "outputId": "46d694b5-f1ec-4040-a556-05539124228e"
      },
      "execution_count": 8,
      "outputs": [
        {
          "output_type": "stream",
          "name": "stdout",
          "text": [
            "tf.Tensor(\n",
            "[b'Este collar es una reliquia familiar.' b'Una vez viv\\xc3\\xad en Roma.'\n",
            " b'\\xc2\\xbfQu\\xc3\\xa9 tanto cuesta el carro que planeas comprar?'\n",
            " b'Tom admiti\\xc3\\xb3 que estaba equivocado.' b'Hasta entonces.'], shape=(5,), dtype=string)\n",
            "\n",
            "tf.Tensor(\n",
            "[b'This necklace is a family heirloom.' b'I once lived in Rome.'\n",
            " b'How much is the car you are planning to buy?'\n",
            " b'Tom admitted that he was wrong.' b'See you then.'], shape=(5,), dtype=string)\n"
          ]
        }
      ]
    },
    {
      "cell_type": "code",
      "source": [
        "# standardizing and processing the text\n",
        "def tf_lower_and_split_punct(text):\n",
        "  # Split accented characters.\n",
        "  text = tf_text.normalize_utf8(text, 'NFKD')\n",
        "  text = tf.strings.lower(text)\n",
        "  # Keep space, a to z, and select punctuation.\n",
        "  text = tf.strings.regex_replace(text, '[^ a-z.?!,¿]', '')\n",
        "  # Add spaces around punctuation.\n",
        "  text = tf.strings.regex_replace(text, '[.?!,¿]', r' \\0 ')\n",
        "  # Strip whitespace.\n",
        "  text = tf.strings.strip(text)\n",
        "  # prepend and append START and END tokens to each sentence in the context and target\n",
        "  text = tf.strings.join(['[START]', text, '[END]'], separator=' ')\n",
        "  return text"
      ],
      "metadata": {
        "id": "6AqTYuMG_fIP"
      },
      "execution_count": 9,
      "outputs": []
    },
    {
      "cell_type": "code",
      "source": [
        "example_text = tf.constant('¿Todavía está en casa?')\n",
        "print(example_text.numpy().decode())\n",
        "print(tf_lower_and_split_punct(example_text).numpy().decode())"
      ],
      "metadata": {
        "colab": {
          "base_uri": "https://localhost:8080/"
        },
        "id": "oUwQieIM7hwR",
        "outputId": "f1ab9a10-91cd-4ca3-ed0c-00895a49df6c"
      },
      "execution_count": 10,
      "outputs": [
        {
          "output_type": "stream",
          "name": "stdout",
          "text": [
            "¿Todavía está en casa?\n",
            "[START] ¿ todavia esta en casa ? [END]\n"
          ]
        }
      ]
    },
    {
      "cell_type": "markdown",
      "source": [
        "This standardization function will be wrapped up in a tf.keras.layers.TextVectorization layer which will handle the vocabulary extraction and conversion of input text to sequences of tokens."
      ],
      "metadata": {
        "id": "O1IDMD6KYSbw"
      }
    },
    {
      "cell_type": "code",
      "source": [
        "max_vocab_size = 5000\n",
        "\n",
        "# the Spanish TextVectorization\n",
        "context_text_processor = tf.keras.layers.TextVectorization(standardize=tf_lower_and_split_punct, max_tokens=max_vocab_size, ragged=True)\n",
        "# This adapt method initializes the layer based on the data.\n",
        "context_text_processor.adapt(train_raw.map(lambda context, target: context))\n",
        "\n",
        "# The first 10 words from context the vocabulary\n",
        "context_text_processor.get_vocabulary()[:10]"
      ],
      "metadata": {
        "id": "nKtuCQXu_imi",
        "colab": {
          "base_uri": "https://localhost:8080/"
        },
        "outputId": "4ee9b95f-9ce1-4bcc-cd87-2fed819ef636"
      },
      "execution_count": 11,
      "outputs": [
        {
          "output_type": "execute_result",
          "data": {
            "text/plain": [
              "['', '[UNK]', '[START]', '[END]', '.', 'que', 'de', 'el', 'a', 'no']"
            ]
          },
          "metadata": {},
          "execution_count": 11
        }
      ]
    },
    {
      "cell_type": "code",
      "source": [
        "# the English TextVectorization\n",
        "target_text_processor = tf.keras.layers.TextVectorization(standardize=tf_lower_and_split_punct, max_tokens=max_vocab_size, ragged=True)\n",
        "# This adapt method initializes the layer based on the data.\n",
        "target_text_processor.adapt(train_raw.map(lambda context, target: target))\n",
        "\n",
        "# The first 10 words from target the vocabulary\n",
        "target_text_processor.get_vocabulary()[:10]"
      ],
      "metadata": {
        "colab": {
          "base_uri": "https://localhost:8080/"
        },
        "id": "RXS9YzGc_oND",
        "outputId": "04522188-0846-41b6-aae5-bbd22b721698"
      },
      "execution_count": 12,
      "outputs": [
        {
          "output_type": "execute_result",
          "data": {
            "text/plain": [
              "['', '[UNK]', '[START]', '[END]', '.', 'the', 'i', 'to', 'you', 'tom']"
            ]
          },
          "metadata": {},
          "execution_count": 12
        }
      ]
    },
    {
      "cell_type": "code",
      "source": [
        "example_tokens = context_text_processor(example_context_strings)\n",
        "example_tokens[:3, :]"
      ],
      "metadata": {
        "colab": {
          "base_uri": "https://localhost:8080/"
        },
        "id": "qwnJuprb_pyu",
        "outputId": "d45e9c56-94d5-4f12-d98e-b5d9e6fa4a33"
      },
      "execution_count": 13,
      "outputs": [
        {
          "output_type": "execute_result",
          "data": {
            "text/plain": [
              "<tf.RaggedTensor [[2, 40, 3299, 15, 23, 1, 4172, 4, 3], [2, 23, 75, 3733, 14, 1801, 4, 3],\n",
              " [2, 13, 5, 237, 753, 7, 852, 5, 3584, 228, 12, 3]]>"
            ]
          },
          "metadata": {},
          "execution_count": 13
        }
      ]
    },
    {
      "cell_type": "code",
      "source": [
        "context_vocab = np.array(context_text_processor.get_vocabulary())\n",
        "tokens = context_vocab[example_tokens[0].numpy()]\n",
        "' '.join(tokens)"
      ],
      "metadata": {
        "colab": {
          "base_uri": "https://localhost:8080/",
          "height": 35
        },
        "id": "qaPBkXaR_rf2",
        "outputId": "2f95d129-3e66-4c74-d2cb-b7017e259fea"
      },
      "execution_count": 14,
      "outputs": [
        {
          "output_type": "execute_result",
          "data": {
            "text/plain": [
              "'[START] este collar es una [UNK] familiar . [END]'"
            ],
            "application/vnd.google.colaboratory.intrinsic+json": {
              "type": "string"
            }
          },
          "metadata": {},
          "execution_count": 14
        }
      ]
    },
    {
      "cell_type": "code",
      "source": [
        "# The process_text function below converts the Datasets of strings, into 0-padded tensors of token IDs.\n",
        "# It also converts from a (context, target) pair to an ((context, target_in), target_out) pair for training with keras.Model.fit.\n",
        "# The difference between target_in and target_out is that they are shifted by one step relative to eachother,\n",
        "# so that at each location the label is the next token.\n",
        "def process_text(context, target):\n",
        "  # convert the context strings to 0-padded tensors of token IDs.\n",
        "  context = context_text_processor(context).to_tensor()\n",
        "  # convert the target strings to ragged tensors of token IDs.\n",
        "  target = target_text_processor(target)\n",
        "  # 0-padded target tensors of token IDs except the last token\n",
        "  targ_in = target[:,:-1].to_tensor()\n",
        "  # 0-padded target tensors of token IDs shifted by one step relative to targ_in\n",
        "  targ_out = target[:,1:].to_tensor()\n",
        "  return (context, targ_in), targ_out\n",
        "\n",
        "\n",
        "train_ds = train_raw.map(process_text, tf.data.AUTOTUNE)\n",
        "val_ds = val_raw.map(process_text, tf.data.AUTOTUNE)"
      ],
      "metadata": {
        "id": "adXIrR9t_tDV"
      },
      "execution_count": 15,
      "outputs": []
    },
    {
      "cell_type": "code",
      "source": [
        "for (context_tokens, target_tokens_in), target_tokens_out in train_ds.take(1):\n",
        "  print(context_tokens[0].numpy()) \n",
        "  print()\n",
        "  print(target_tokens_in[0].numpy()) \n",
        "  print(target_tokens_out[0].numpy())"
      ],
      "metadata": {
        "colab": {
          "base_uri": "https://localhost:8080/"
        },
        "id": "uTeohPwd_vDy",
        "outputId": "4f4823a0-6254-425f-e7b3-2193d1311bbd"
      },
      "execution_count": 16,
      "outputs": [
        {
          "output_type": "stream",
          "name": "stdout",
          "text": [
            "[   2   24  708   18  374   40 2789   52   39  135  856  116    4    3]\n",
            "\n",
            "[   2   24 1244  230   23   22 2031   67    6   18  998  180  161    4]\n",
            "[  24 1244  230   23   22 2031   67    6   18  998  180  161    4    3]\n"
          ]
        }
      ]
    },
    {
      "cell_type": "markdown",
      "source": [
        "### The encoder/decoder\n",
        "The following diagrams shows an overview of the model. In both the encoder is on the left, the decoder is on the right. At each time-step the decoder's output is combined with the encoder's output, to predict the next word.\n",
        "\n",
        "![image.jpg](https://github.com/MarwanMohamed95/Machine-Translation-with-Attention/blob/main/attention_mechanism.jpg?raw=true)"
      ],
      "metadata": {
        "id": "q8mhf2jxbDfX"
      }
    },
    {
      "cell_type": "code",
      "source": [
        "ENCODER_UNITS = 256\n",
        "DECODER_UNITS = 512"
      ],
      "metadata": {
        "id": "-bE6vMnq_wjo"
      },
      "execution_count": 17,
      "outputs": []
    },
    {
      "cell_type": "markdown",
      "source": [
        "### Encoder\n",
        "\n",
        "The goal of the encoder is to process the context sequence into a sequence of vectors that are useful for the decoder as it attempts to predict the next output for each timestep.\n",
        "\n",
        "The encoder:\n",
        "\n",
        "1.   Takes a list of token IDs (from context_text_processor).\n",
        "2.   Looks up an embedding vector for each token (Using a layers.Embedding).\n",
        "3.   Processes the embeddings into a new sequence (Using a bidirectional layers.GRU).\n",
        "4.   Returns the processed sequence. This will be passed to the attention.   \n"
      ],
      "metadata": {
        "id": "PHEdWvNve0XL"
      }
    },
    {
      "cell_type": "code",
      "source": [
        "class Encoder(tf.keras.layers.Layer):\n",
        "  def __init__(self, text_processor, units):\n",
        "    super(Encoder, self).__init__()\n",
        "    self.text_processor = text_processor\n",
        "    self.vocab_size = text_processor.vocabulary_size()\n",
        "    self.units = units\n",
        "\n",
        "    # The embedding layer converts tokens to vectors\n",
        "    self.embedding = tf.keras.layers.Embedding(self.vocab_size, units, mask_zero=True)\n",
        "\n",
        "    # The RNN layer processes those vectors sequentially.\n",
        "    self.rnn = tf.keras.layers.Bidirectional(\n",
        "        layer=tf.keras.layers.GRU(units, return_state=True, return_sequences=True, recurrent_initializer='glorot_uniform'))\n",
        "\n",
        "  def call(self, sourceTokens, state = None):\n",
        "\n",
        "    # The embedding layer looks up the embedding vector for each token.\n",
        "    sourceVectors = self.embedding(sourceTokens)\n",
        "\n",
        "    # The GRU processes the sequence of embeddings.\n",
        "    (encOutput, encFwdState, encBckState) = self.rnn(inputs = sourceVectors,initial_state=state)\n",
        "\n",
        "    # Returns the new sequence of embeddings.\n",
        "    return (encOutput, encFwdState, encBckState)\n",
        "\n",
        "  def convert_input(self, texts):\n",
        "    texts = tf.convert_to_tensor(texts)\n",
        "    if len(texts.shape) == 0:\n",
        "      texts = tf.convert_to_tensor(texts)[tf.newaxis]\n",
        "    context = self.text_processor(texts).to_tensor()\n",
        "    context, encFwdState, encBckState = self(context)\n",
        "    return context, encFwdState, encBckState"
      ],
      "metadata": {
        "id": "tU5D0_zk_yjz"
      },
      "execution_count": 18,
      "outputs": []
    },
    {
      "cell_type": "code",
      "source": [
        "# Encode the input sequence.\n",
        "encoder = Encoder(context_text_processor, ENCODER_UNITS)\n",
        "encOutput, encFwdState, encBckState = encoder(context_tokens)\n",
        "\n",
        "print(f'Context tokens, shape (batch, s): {context_tokens.shape}')\n",
        "print(f'Encoder output, shape (batch, s, units): {encOutput.shape}')"
      ],
      "metadata": {
        "colab": {
          "base_uri": "https://localhost:8080/"
        },
        "id": "opEJOZqU_0c-",
        "outputId": "a9bec63a-3958-4422-9130-33e571306efe"
      },
      "execution_count": 19,
      "outputs": [
        {
          "output_type": "stream",
          "name": "stdout",
          "text": [
            "Context tokens, shape (batch, s): (64, 14)\n",
            "Encoder output, shape (batch, s, units): (64, 14, 512)\n"
          ]
        }
      ]
    },
    {
      "cell_type": "markdown",
      "source": [
        "### The attention layer\n",
        "The attention layer lets the decoder access the information extracted by the encoder. It computes a vector from the entire context sequence, and concats that to the decoder's output."
      ],
      "metadata": {
        "id": "rzI7rcQXgxls"
      }
    },
    {
      "cell_type": "markdown",
      "source": [
        "$\\large a_{i,j} = \\frac{\\exp(score(h_i, \\bar{h}_j))}{\\sum_{k=1}^{T_y} \\exp(score(h_i, \\bar{h}_k))}$\n",
        "\n",
        "where\n",
        "$\\large score(h_i, \\bar{h}_j) = h_i^\\top W_a \\bar{h}_j$\n",
        "\n",
        "and\n",
        "$\\large \\bar{h}_j = \\frac{1}{T_x} \\sum_{i=1}^{T_x} h_i$\n",
        "\n",
        "where $h_i$ is the encoder hidden state at time step $i$,\n",
        "$\\bar{h}_j$ is the mean of all encoder hidden states,\n",
        "$T_x$ is the number of encoder time steps, and\n",
        "$T_y$ is the number of decoder time steps."
      ],
      "metadata": {
        "id": "7jJB1q0yi7wv"
      }
    },
    {
      "cell_type": "code",
      "source": [
        "class LuongAttention(tf.keras.layers.Layer):\n",
        "    def __init__(self):\n",
        "        super().__init__()\n",
        "\n",
        "    def call(self, query, values):\n",
        "        # query shape: (batch, max_time_q, units)\n",
        "        # values shape: (batch, max_time_v, units)\n",
        "\n",
        "        # Compute the dot product of the query and values tensors along the last dimension.\n",
        "        attention_scores = tf.matmul(query, values, transpose_b=True)\n",
        "\n",
        "        # Compute the attention weights using softmax.\n",
        "        attention_weights = tf.nn.softmax(attention_scores, axis=-1)\n",
        "\n",
        "        # Compute the context vector as a weighted sum of the values.\n",
        "        context = tf.matmul(attention_weights, values)\n",
        "\n",
        "        self.last_attention_weights = attention_weights\n",
        "        \n",
        "        return context\n"
      ],
      "metadata": {
        "id": "CRR6pEi8kH18"
      },
      "execution_count": 20,
      "outputs": []
    },
    {
      "cell_type": "code",
      "source": [
        "attention_layer = LuongAttention()\n",
        "\n",
        "# Attend to the encoded tokens\n",
        "embed = tf.keras.layers.Embedding(target_text_processor.vocabulary_size(), output_dim=DECODER_UNITS, mask_zero=True)\n",
        "target_embedding_in = embed(target_tokens_in)\n",
        "\n",
        "result = attention_layer(query = target_embedding_in, values=encOutput)\n",
        "\n",
        "print(f'Context sequence, shape (batch, s, units): {encOutput.shape}')\n",
        "print(f'Target sequence, shape (batch, t, units): {target_embedding_in.shape}')\n",
        "print(f'Attention result, shape (batch, t, units): {result.shape}')\n",
        "print(f'Attention weights, shape (batch, t, s):    {attention_layer.last_attention_weights.shape}')"
      ],
      "metadata": {
        "colab": {
          "base_uri": "https://localhost:8080/"
        },
        "id": "mAh996iwCmbj",
        "outputId": "2cc33777-c0ea-4529-95ba-a6b434c7a2bd"
      },
      "execution_count": 21,
      "outputs": [
        {
          "output_type": "stream",
          "name": "stdout",
          "text": [
            "Context sequence, shape (batch, s, units): (64, 14, 512)\n",
            "Target sequence, shape (batch, t, units): (64, 14, 512)\n",
            "Attention result, shape (batch, t, units): (64, 14, 512)\n",
            "Attention weights, shape (batch, t, s):    (64, 14, 14)\n"
          ]
        }
      ]
    },
    {
      "cell_type": "markdown",
      "source": [
        "The attention weights will sum to 1 over the context sequence, at each location in the target sequence."
      ],
      "metadata": {
        "id": "yIVmuafSrz-d"
      }
    },
    {
      "cell_type": "code",
      "source": [
        "attention_layer.last_attention_weights[0].numpy().sum(axis=-1)"
      ],
      "metadata": {
        "colab": {
          "base_uri": "https://localhost:8080/"
        },
        "id": "04b-2hY-ABwF",
        "outputId": "20fc62c6-5966-4d3a-a467-93835862f720"
      },
      "execution_count": 22,
      "outputs": [
        {
          "output_type": "execute_result",
          "data": {
            "text/plain": [
              "array([1.        , 0.99999994, 0.99999994, 0.99999994, 0.99999994,\n",
              "       1.        , 1.0000001 , 1.        , 0.99999994, 1.        ,\n",
              "       1.        , 1.0000001 , 1.0000001 , 1.        ], dtype=float32)"
            ]
          },
          "metadata": {},
          "execution_count": 22
        }
      ]
    },
    {
      "cell_type": "markdown",
      "source": [
        "### The decoder\n",
        "The decoder's job is to generate predictions for the next token at each location in the target sequence.\n",
        "\n",
        "1.   It looks up embeddings for each token in the target sequence.\n",
        "2.   It uses an RNN to process the target sequence, and keep track of what it has generated so far.\n",
        "3.   It uses RNN output as the \"query\" to the attention layer, when attending to the encoder's output.\n",
        "4.   At each location in the output it predicts the next token."
      ],
      "metadata": {
        "id": "Oz5VTlOnr-f0"
      }
    },
    {
      "cell_type": "code",
      "source": [
        "class Decoder(tf.keras.layers.Layer):\n",
        "  @classmethod\n",
        "  def add_method(cls, fun):\n",
        "    setattr(cls, fun.__name__, fun)\n",
        "    return fun\n",
        "\n",
        "  def __init__(self, text_processor, units):\n",
        "    super(Decoder, self).__init__()\n",
        "    self.text_processor = text_processor\n",
        "    self.vocab_size = text_processor.vocabulary_size()\n",
        "\n",
        "    self.units = units\n",
        "\n",
        "    # The embedding layer converts token IDs to vectors\n",
        "    self.embedding = tf.keras.layers.Embedding(self.vocab_size, units, mask_zero=True)\n",
        "\n",
        "    # The RNN keeps track of what's been generated so far.\n",
        "    self.rnn = tf.keras.layers.GRU(units, return_sequences=True, return_state=True, recurrent_initializer='glorot_uniform')\n",
        "\n",
        "    # The RNN output will be the query for the attention layer.\n",
        "    self.attention = LuongAttention()\n",
        "\n",
        "    # This fully connected layer produces the logits for each output token.\n",
        "    self.fwdNeuralNet = tf.keras.models.Sequential([tf.keras.layers.Dense(units=self.units, activation=\"tanh\", use_bias=False,),\n",
        "                        tf.keras.layers.Dense(units=self.vocab_size,),])"
      ],
      "metadata": {
        "id": "Sl3Vxv6WAI4k"
      },
      "execution_count": 23,
      "outputs": []
    },
    {
      "cell_type": "code",
      "source": [
        "@Decoder.add_method\n",
        "def call(self, encOutput, targetTokens, state=None, return_state=False):  \n",
        "\n",
        "  # Lookup the embeddings\n",
        "  targetVectors = self.embedding(targetTokens)\n",
        "\n",
        "  # Process the target sequence.\n",
        "  (decOutput, decState) = self.rnn(inputs=targetVectors, initial_state=state,)\n",
        "\n",
        "  # Use the RNN output as the query for the attention over the context.\n",
        "  contextVector = self.attention(query=decOutput, values = encOutput,)\n",
        "  \n",
        "  self.last_attention_weights = self.attention.last_attention_weights\n",
        "\n",
        "  # concatenate the context vector and output of GRU layer\n",
        "  contextAndGruOutput = tf.concat([contextVector, decOutput], axis=-1)\n",
        "  logits = self.fwdNeuralNet(contextAndGruOutput)\n",
        "\n",
        "  if return_state:\n",
        "    return logits, decState\n",
        "  else:\n",
        "    return logits"
      ],
      "metadata": {
        "id": "Y1nlENfKANVu"
      },
      "execution_count": 24,
      "outputs": []
    },
    {
      "cell_type": "code",
      "source": [
        "decoder = Decoder(target_text_processor, DECODER_UNITS)"
      ],
      "metadata": {
        "id": "uJBY8sWQASyh"
      },
      "execution_count": 25,
      "outputs": []
    },
    {
      "cell_type": "code",
      "source": [
        "logits = decoder(encOutput, target_tokens_in)\n",
        "\n",
        "print(f'encoder output shape: (batch, s, units) {encOutput.shape}')\n",
        "print(f'input target tokens shape: (batch, t) {target_tokens_in.shape}')\n",
        "print(f'logits shape shape: (batch, target_vocabulary_size) {logits.shape}')"
      ],
      "metadata": {
        "colab": {
          "base_uri": "https://localhost:8080/"
        },
        "id": "8lkf0NkgAWAF",
        "outputId": "d1db2dc2-4fed-4991-ebd2-19cdf57b1a2c"
      },
      "execution_count": 26,
      "outputs": [
        {
          "output_type": "stream",
          "name": "stdout",
          "text": [
            "encoder output shape: (batch, s, units) (64, 14, 512)\n",
            "input target tokens shape: (batch, t) (64, 14)\n",
            "logits shape shape: (batch, target_vocabulary_size) (64, 14, 5000)\n"
          ]
        }
      ]
    },
    {
      "cell_type": "markdown",
      "source": [
        "### The model\n",
        "Now that we have all the model components, combine them to build the model for training."
      ],
      "metadata": {
        "id": "TWhpoa-Otxpm"
      }
    },
    {
      "cell_type": "code",
      "source": [
        "class Translator(tf.keras.Model):\n",
        "  @classmethod\n",
        "  def add_method(cls, fun):\n",
        "    setattr(cls, fun.__name__, fun)\n",
        "    return fun\n",
        "\n",
        "  def __init__(self, units, context_text_processor, target_text_processor):\n",
        "    super().__init__()\n",
        "    # Build the encoder and decoder\n",
        "    enc_units = units\n",
        "    dec_units = units*2\n",
        "    encoder = Encoder(context_text_processor, enc_units)\n",
        "    decoder = Decoder(target_text_processor, dec_units)\n",
        "\n",
        "    self.encoder = encoder\n",
        "    self.decoder = decoder\n",
        "\n",
        "    # target text processor\n",
        "    self.text_processor = target_text_processor\n",
        "    self.vocab_size = self.text_processor.vocabulary_size()\n",
        "    self.word_to_id = tf.keras.layers.StringLookup(vocabulary = self.text_processor.get_vocabulary(), mask_token='', oov_token='[UNK]')\n",
        "    self.id_to_word = tf.keras.layers.StringLookup(vocabulary = self.text_processor.get_vocabulary(), mask_token='', oov_token='[UNK]', invert=True)\n",
        "    self.start_token = self.word_to_id('[START]')\n",
        "    self.end_token = self.word_to_id('[END]')\n",
        "\n",
        "  def call(self, inputs):\n",
        "    context, target_in = inputs\n",
        "    encOutput, encFwdState, encBckState = self.encoder(context)\n",
        "    decState = tf.concat([encFwdState, encBckState], axis=-1)\n",
        "    logits = self.decoder(encOutput, target_in,state = decState)\n",
        "\n",
        "    try:\n",
        "      # Delete the keras mask, so keras doesn't scale the loss+accuracy. \n",
        "      del logits._keras_mask\n",
        "    except AttributeError:\n",
        "      pass\n",
        "\n",
        "    return logits"
      ],
      "metadata": {
        "id": "PaZXjgUvAd8R"
      },
      "execution_count": 27,
      "outputs": []
    },
    {
      "cell_type": "code",
      "source": [
        "model = Translator(ENCODER_UNITS, context_text_processor, target_text_processor)\n",
        "\n",
        "logits = model((context_tokens, target_tokens_in))\n",
        "\n",
        "print(f'Context tokens, shape: (batch, s, units) {context_tokens.shape}')\n",
        "print(f'Target tokens, shape: (batch, t) {target_tokens_in.shape}')\n",
        "print(f'logits, shape: (batch, t, target_vocabulary_size) {logits.shape}')"
      ],
      "metadata": {
        "colab": {
          "base_uri": "https://localhost:8080/"
        },
        "id": "IhQ6ifAADRFj",
        "outputId": "3ad62c8b-7675-4d80-c951-d131ae1f9a7f"
      },
      "execution_count": 28,
      "outputs": [
        {
          "output_type": "stream",
          "name": "stdout",
          "text": [
            "Context tokens, shape: (batch, s, units) (64, 14)\n",
            "Target tokens, shape: (batch, t) (64, 14)\n",
            "logits, shape: (batch, t, target_vocabulary_size) (64, 14, 5000)\n"
          ]
        }
      ]
    },
    {
      "cell_type": "markdown",
      "source": [
        "For training, you'll want to implement your own masked loss and accuracy functions"
      ],
      "metadata": {
        "id": "jTA70xHJt9Cr"
      }
    },
    {
      "cell_type": "code",
      "source": [
        "@Translator.add_method\n",
        "def tokens_to_text(self, tokens):\n",
        "  words = self.id_to_word(tokens)\n",
        "  result = tf.strings.reduce_join(words, axis=-1, separator=' ')\n",
        "  result = tf.strings.regex_replace(result, '^ *\\[START\\] *', '')\n",
        "  result = tf.strings.regex_replace(result, ' *\\[END\\] *$', '')\n",
        "  return result"
      ],
      "metadata": {
        "id": "D4xC4-101FL7"
      },
      "execution_count": 29,
      "outputs": []
    },
    {
      "cell_type": "code",
      "source": [
        "def masked_loss(y_true, y_pred):\n",
        "    # Calculate the loss for each item in the batch.\n",
        "    loss_fn = tf.keras.losses.SparseCategoricalCrossentropy(from_logits=True, reduction='none')\n",
        "    loss = loss_fn(y_true, y_pred)\n",
        "\n",
        "    # Mask off the losses on padding.\n",
        "    mask = tf.cast(y_true != 0, loss.dtype)\n",
        "    loss *= mask\n",
        "\n",
        "    # Return the total.\n",
        "    return tf.reduce_sum(loss)/tf.reduce_sum(mask)"
      ],
      "metadata": {
        "id": "BIfcxkVcAiIJ"
      },
      "execution_count": 30,
      "outputs": []
    },
    {
      "cell_type": "code",
      "source": [
        "def masked_acc(y_true, y_pred):\n",
        "    # Calculate the loss for each item in the batch.\n",
        "    y_pred = tf.argmax(y_pred, axis=-1)\n",
        "    y_pred = tf.cast(y_pred, y_true.dtype)\n",
        "\n",
        "    match = tf.cast(y_true == y_pred, tf.float32)\n",
        "    mask = tf.cast(y_true != 0, tf.float32)\n",
        "\n",
        "    return tf.reduce_sum(match)/tf.reduce_sum(mask)"
      ],
      "metadata": {
        "id": "Xbd_JJoJAlI0"
      },
      "execution_count": 31,
      "outputs": []
    },
    {
      "cell_type": "code",
      "source": [
        "model.compile(optimizer='adam', loss=masked_loss, metrics=[masked_acc, masked_loss])"
      ],
      "metadata": {
        "id": "hbqf_SPDAmqn"
      },
      "execution_count": 32,
      "outputs": []
    },
    {
      "cell_type": "code",
      "source": [
        "# model evaluation befor training\n",
        "model.evaluate(val_ds, steps=20, return_dict=True)"
      ],
      "metadata": {
        "colab": {
          "base_uri": "https://localhost:8080/"
        },
        "id": "i2jFFkmwAoCL",
        "outputId": "723b5eb1-2674-464d-e82c-848c851b749e"
      },
      "execution_count": 33,
      "outputs": [
        {
          "output_type": "stream",
          "name": "stdout",
          "text": [
            "20/20 [==============================] - 9s 28ms/step - loss: 8.5177 - masked_acc: 8.2873e-04 - masked_loss: 8.5177\n"
          ]
        },
        {
          "output_type": "execute_result",
          "data": {
            "text/plain": [
              "{'loss': 8.517654418945312,\n",
              " 'masked_acc': 0.0008287293021567166,\n",
              " 'masked_loss': 8.517654418945312}"
            ]
          },
          "metadata": {},
          "execution_count": 33
        }
      ]
    },
    {
      "cell_type": "code",
      "source": [
        "train_steps = 1000\n",
        "val_steps = 300\n",
        "\n",
        "history = model.fit(train_ds.repeat(), \n",
        "                    epochs=30, steps_per_epoch = train_steps, \n",
        "                    validation_data=val_ds, validation_steps = val_steps,\n",
        "                    callbacks = [tf.keras.callbacks.EarlyStopping(patience=2)])"
      ],
      "metadata": {
        "colab": {
          "base_uri": "https://localhost:8080/"
        },
        "id": "07KIzjUHArEQ",
        "outputId": "8e53868e-fcb7-4172-eaee-7f6d7bb48cee"
      },
      "execution_count": 34,
      "outputs": [
        {
          "output_type": "stream",
          "name": "stdout",
          "text": [
            "Epoch 1/30\n",
            "1000/1000 [==============================] - 96s 72ms/step - loss: 3.5730 - masked_acc: 0.4209 - masked_loss: 3.5730 - val_loss: 2.2800 - val_masked_acc: 0.6030 - val_masked_loss: 2.2800\n",
            "Epoch 2/30\n",
            "1000/1000 [==============================] - 48s 48ms/step - loss: 1.7959 - masked_acc: 0.6776 - masked_loss: 1.7957 - val_loss: 1.5874 - val_masked_acc: 0.7081 - val_masked_loss: 1.5874\n",
            "Epoch 3/30\n",
            "1000/1000 [==============================] - 45s 45ms/step - loss: 1.3705 - masked_acc: 0.7375 - masked_loss: 1.3698 - val_loss: 1.3476 - val_masked_acc: 0.7427 - val_masked_loss: 1.3476\n",
            "Epoch 4/30\n",
            "1000/1000 [==============================] - 45s 45ms/step - loss: 1.0722 - masked_acc: 0.7777 - masked_loss: 1.0722 - val_loss: 1.2380 - val_masked_acc: 0.7599 - val_masked_loss: 1.2380\n",
            "Epoch 5/30\n",
            "1000/1000 [==============================] - 45s 45ms/step - loss: 0.9427 - masked_acc: 0.7968 - masked_loss: 0.9432 - val_loss: 1.1974 - val_masked_acc: 0.7683 - val_masked_loss: 1.1974\n",
            "Epoch 6/30\n",
            "1000/1000 [==============================] - 44s 44ms/step - loss: 0.8730 - masked_acc: 0.8073 - masked_loss: 0.8726 - val_loss: 1.1543 - val_masked_acc: 0.7752 - val_masked_loss: 1.1543\n",
            "Epoch 7/30\n",
            "1000/1000 [==============================] - 46s 46ms/step - loss: 0.7053 - masked_acc: 0.8341 - masked_loss: 0.7053 - val_loss: 1.1515 - val_masked_acc: 0.7773 - val_masked_loss: 1.1515\n",
            "Epoch 8/30\n",
            "1000/1000 [==============================] - 44s 44ms/step - loss: 0.6497 - masked_acc: 0.8436 - masked_loss: 0.6496 - val_loss: 1.1566 - val_masked_acc: 0.7801 - val_masked_loss: 1.1566\n",
            "Epoch 9/30\n",
            "1000/1000 [==============================] - 45s 45ms/step - loss: 0.6162 - masked_acc: 0.8487 - masked_loss: 0.6160 - val_loss: 1.1543 - val_masked_acc: 0.7819 - val_masked_loss: 1.1543\n"
          ]
        }
      ]
    },
    {
      "cell_type": "code",
      "source": [
        "plt.plot(history.history['loss'], label='loss')\n",
        "plt.plot(history.history['val_loss'], label='val_loss')\n",
        "plt.ylim([0, max(plt.ylim())])\n",
        "plt.xlabel('Epoch #')\n",
        "plt.legend()\n",
        "plt.show()"
      ],
      "metadata": {
        "id": "IZFCjszIElCt",
        "colab": {
          "base_uri": "https://localhost:8080/",
          "height": 449
        },
        "outputId": "cb6a84bc-e6ac-47cf-d60e-f1b870b849f2"
      },
      "execution_count": 35,
      "outputs": [
        {
          "output_type": "display_data",
          "data": {
            "text/plain": [
              "<Figure size 640x480 with 1 Axes>"
            ],
            "image/png": "[encoded data removed]"
          },
          "metadata": {}
        }
      ]
    },
    {
      "cell_type": "code",
      "source": [
        "plt.plot(history.history['masked_acc'], label='accuracy')\n",
        "plt.plot(history.history['val_masked_acc'], label='val_accuracy')\n",
        "plt.ylim([0, max(plt.ylim())])\n",
        "plt.xlabel('Epoch #')\n",
        "plt.legend()\n",
        "plt.show()"
      ],
      "metadata": {
        "id": "kZ-IXBN5Ell6",
        "colab": {
          "base_uri": "https://localhost:8080/",
          "height": 449
        },
        "outputId": "b45e49ee-21b1-45b6-d6e9-bd9d86dd7656"
      },
      "execution_count": 36,
      "outputs": [
        {
          "output_type": "display_data",
          "data": {
            "text/plain": [
              "<Figure size 640x480 with 1 Axes>"
            ],
            "image/png": "[encoded data removed]"
          },
          "metadata": {}
        }
      ]
    },
    {
      "cell_type": "code",
      "source": [
        "# model evaluation after training\n",
        "model.evaluate(val_ds, steps=20, return_dict=True)"
      ],
      "metadata": {
        "colab": {
          "base_uri": "https://localhost:8080/"
        },
        "id": "_5vSUBv4OhMz",
        "outputId": "b9a443c7-cbb5-466c-dc92-5c14f0f73412"
      },
      "execution_count": 37,
      "outputs": [
        {
          "output_type": "stream",
          "name": "stdout",
          "text": [
            "20/20 [==============================] - 1s 29ms/step - loss: 1.1557 - masked_acc: 0.7828 - masked_loss: 1.1557\n"
          ]
        },
        {
          "output_type": "execute_result",
          "data": {
            "text/plain": [
              "{'loss': 1.1557174921035767,\n",
              " 'masked_acc': 0.7827831506729126,\n",
              " 'masked_loss': 1.1557174921035767}"
            ]
          },
          "metadata": {},
          "execution_count": 37
        }
      ]
    },
    {
      "cell_type": "code",
      "source": [
        "#  This function to execute the full text => text translation.\n",
        "@Translator.add_method\n",
        "def translate(self, texts, *, max_length=50, temperature=0.0):\n",
        "  # Process the input texts\n",
        "  encOutput, encFwdState, encBckState = self.encoder.convert_input(texts)\n",
        "  state = tf.concat([encFwdState, encBckState], axis=-1)\n",
        "  batch_size = tf.shape(texts)[0]\n",
        "  \n",
        "  # Setup the loop inputs\n",
        "  tokens = []\n",
        "  attention_weights = []\n",
        "  next_token = tf.fill([batch_size, 1], self.start_token)\n",
        "  done = tf.zeros([batch_size, 1], dtype=tf.bool)\n",
        "  \n",
        "  for _ in range(max_length):\n",
        "    logits, state = self.decoder(encOutput, next_token,state = state,return_state=True)\n",
        "    if temperature == 0.0:\n",
        "      next_token = tf.argmax(logits, axis=-1)\n",
        "    else:\n",
        "      logits = logits[:, -1, :]/temperature\n",
        "      next_token = tf.random.categorical(logits, num_samples=1)\n",
        "\n",
        "    # If a sequence produces an `end_token`, set it `done`\n",
        "    done = done | (next_token == self.end_token)\n",
        "    # Once a sequence is done it only produces 0-padding.\n",
        "    next_token = tf.where(done, tf.constant(0, dtype=tf.int64), next_token)\n",
        "    # Collect the generated tokens\n",
        "    tokens.append(next_token)\n",
        "    attention_weights.append(self.decoder.last_attention_weights)\n",
        "\n",
        "    if tf.executing_eagerly() and tf.reduce_all(done):\n",
        "      break\n",
        "  # Stack the lists of tokens and attention weights.\n",
        "  tokens = tf.concat(tokens, axis=-1)   # t*[(batch 1)] -> (batch, t)\n",
        "  self.last_attention_weights = tf.concat(attention_weights, axis=1)  # t*[(batch 1 s)] -> (batch, t s)\n",
        "\n",
        "  result = self.tokens_to_text(tokens)\n",
        "  return result"
      ],
      "metadata": {
        "id": "pKNepLynyVtY"
      },
      "execution_count": 38,
      "outputs": []
    },
    {
      "cell_type": "code",
      "source": [
        "result = model.translate(['¿Todavía está en casa?']) # Are you still home\n",
        "result[0].numpy().decode()"
      ],
      "metadata": {
        "colab": {
          "base_uri": "https://localhost:8080/",
          "height": 35
        },
        "id": "VERQfKX8Y25W",
        "outputId": "04a63338-3d03-42da-e22e-19f90aa9b009"
      },
      "execution_count": 39,
      "outputs": [
        {
          "output_type": "execute_result",
          "data": {
            "text/plain": [
              "'is he still at home ? '"
            ],
            "application/vnd.google.colaboratory.intrinsic+json": {
              "type": "string"
            }
          },
          "metadata": {},
          "execution_count": 39
        }
      ]
    },
    {
      "cell_type": "code",
      "source": [
        "inputs = [\n",
        "    'Hace mucho frio aqui.', # \"It's really cold here.\"\n",
        "    'Esta es mi vida.', # \"This is my life.\"\n",
        "    'Su cuarto es un desastre.' # \"His room is a mess\"\n",
        "]"
      ],
      "metadata": {
        "id": "QK4OQ9inZ_yS"
      },
      "execution_count": 40,
      "outputs": []
    },
    {
      "cell_type": "code",
      "source": [
        "for t in inputs:\n",
        "  print(model.translate([t])[0].numpy().decode())"
      ],
      "metadata": {
        "colab": {
          "base_uri": "https://localhost:8080/"
        },
        "id": "yWYptJrv9xlO",
        "outputId": "e7e09945-8be8-469c-8f50-3abd1fb764a1"
      },
      "execution_count": 41,
      "outputs": [
        {
          "output_type": "stream",
          "name": "stdout",
          "text": [
            "it is very cold here . \n",
            "this is my life . \n",
            "his room is a disaster . \n"
          ]
        }
      ]
    },
    {
      "cell_type": "code",
      "source": [
        "@Translator.add_method\n",
        "def plot_attention(self, text, **kwargs):\n",
        "  assert isinstance(text, str)\n",
        "  output = self.translate([text], **kwargs)\n",
        "  output = output[0].numpy().decode()\n",
        "\n",
        "  attention = self.last_attention_weights[0]\n",
        "\n",
        "  context = tf_lower_and_split_punct(text)\n",
        "  context = context.numpy().decode().split()\n",
        "\n",
        "  output = tf_lower_and_split_punct(output)\n",
        "  output = output.numpy().decode().split()[1:]\n",
        "\n",
        "  fig = plt.figure(figsize=(10, 10))\n",
        "  ax = fig.add_subplot(1, 1, 1)\n",
        "\n",
        "  ax.matshow(attention, cmap='viridis', vmin=0.0)\n",
        "\n",
        "  fontdict = {'fontsize': 14}\n",
        "\n",
        "  ax.set_xticklabels([''] + context, fontdict=fontdict, rotation=90)\n",
        "  ax.set_yticklabels([''] + output, fontdict=fontdict)\n",
        "\n",
        "  ax.xaxis.set_major_locator(ticker.MultipleLocator(1))\n",
        "  ax.yaxis.set_major_locator(ticker.MultipleLocator(1))\n",
        "\n",
        "  ax.set_xlabel('Input text')\n",
        "  ax.set_ylabel('Output text')"
      ],
      "metadata": {
        "id": "coswiqnbFJ4L"
      },
      "execution_count": 42,
      "outputs": []
    },
    {
      "cell_type": "code",
      "source": [
        "model.plot_attention('¿Todavía está en casa?') # Are you still home"
      ],
      "metadata": {
        "id": "jqBX3xtKFes9",
        "colab": {
          "base_uri": "https://localhost:8080/",
          "height": 893
        },
        "outputId": "f98bf865-5787-44f2-a001-b844e6de0c11"
      },
      "execution_count": 43,
      "outputs": [
        {
          "output_type": "stream",
          "name": "stderr",
          "text": [
            "<ipython-input-42-935149928b90>:22: UserWarning: FixedFormatter should only be used together with FixedLocator\n",
            "  ax.set_xticklabels([''] + context, fontdict=fontdict, rotation=90)\n",
            "<ipython-input-42-935149928b90>:23: UserWarning: FixedFormatter should only be used together with FixedLocator\n",
            "  ax.set_yticklabels([''] + output, fontdict=fontdict)\n"
          ]
        },
        {
          "output_type": "display_data",
          "data": {
            "text/plain": [
              "<Figure size 1000x1000 with 1 Axes>"
            ],
            "image/png": "[encoded data removed]"
          },
          "metadata": {}
        }
      ]
    },
    {
      "cell_type": "code",
      "source": [
        "model.plot_attention('Esta es mi vida.')  # This is my life."
      ],
      "metadata": {
        "id": "CJ0p2qVdFlS5",
        "colab": {
          "base_uri": "https://localhost:8080/",
          "height": 879
        },
        "outputId": "788e961c-47d4-4b14-feb3-847a352995f0"
      },
      "execution_count": 44,
      "outputs": [
        {
          "output_type": "stream",
          "name": "stderr",
          "text": [
            "<ipython-input-42-935149928b90>:22: UserWarning: FixedFormatter should only be used together with FixedLocator\n",
            "  ax.set_xticklabels([''] + context, fontdict=fontdict, rotation=90)\n",
            "<ipython-input-42-935149928b90>:23: UserWarning: FixedFormatter should only be used together with FixedLocator\n",
            "  ax.set_yticklabels([''] + output, fontdict=fontdict)\n"
          ]
        },
        {
          "output_type": "display_data",
          "data": {
            "text/plain": [
              "<Figure size 1000x1000 with 1 Axes>"
            ],
            "image/png": "[encoded data removed]"
          },
          "metadata": {}
        }
      ]
    },
    {
      "cell_type": "code",
      "source": [
        "long_text = context_raw[-1]\n",
        "long_text"
      ],
      "metadata": {
        "colab": {
          "base_uri": "https://localhost:8080/",
          "height": 53
        },
        "id": "SPzUDEGCpeFQ",
        "outputId": "25890f80-5c6d-43bb-9ca0-7415b78bd470"
      },
      "execution_count": 45,
      "outputs": [
        {
          "output_type": "execute_result",
          "data": {
            "text/plain": [
              "'Si quieres sonar como un hablante nativo, debes estar dispuesto a practicar diciendo la misma frase una y otra vez de la misma manera en que un músico de banjo practica el mismo fraseo una y otra vez hasta que lo puedan tocar correctamente y en el tiempo esperado.'"
            ],
            "application/vnd.google.colaboratory.intrinsic+json": {
              "type": "string"
            }
          },
          "metadata": {},
          "execution_count": 45
        }
      ]
    },
    {
      "cell_type": "code",
      "source": [
        "result = model.translate([long_text])\n",
        "result[0].numpy().decode()"
      ],
      "metadata": {
        "colab": {
          "base_uri": "https://localhost:8080/",
          "height": 53
        },
        "id": "vmFD9xncpsv5",
        "outputId": "0947474a-c5db-4521-fc05-07513dea8919"
      },
      "execution_count": 46,
      "outputs": [
        {
          "output_type": "execute_result",
          "data": {
            "text/plain": [
              "'if you want to sound like a native speaker , you must be [UNK] practice saying the same phrase over and again that it cant be another [UNK] and at the time that i can play it correctly and at the time . '"
            ],
            "application/vnd.google.colaboratory.intrinsic+json": {
              "type": "string"
            }
          },
          "metadata": {},
          "execution_count": 46
        }
      ]
    },
    {
      "cell_type": "code",
      "source": [
        "model.plot_attention(long_text)"
      ],
      "metadata": {
        "id": "FxsRt_TjGs3v",
        "colab": {
          "base_uri": "https://localhost:8080/",
          "height": 926
        },
        "outputId": "245253b8-af14-4160-87d8-d3656bf4fe7e"
      },
      "execution_count": 47,
      "outputs": [
        {
          "output_type": "stream",
          "name": "stderr",
          "text": [
            "<ipython-input-42-935149928b90>:22: UserWarning: FixedFormatter should only be used together with FixedLocator\n",
            "  ax.set_xticklabels([''] + context, fontdict=fontdict, rotation=90)\n",
            "<ipython-input-42-935149928b90>:23: UserWarning: FixedFormatter should only be used together with FixedLocator\n",
            "  ax.set_yticklabels([''] + output, fontdict=fontdict)\n"
          ]
        },
        {
          "output_type": "display_data",
          "data": {
            "text/plain": [
              "<Figure size 1000x1000 with 1 Axes>"
            ],
            "image/png": "[encoded data removed]"
          },
          "metadata": {}
        }
      ]
    },
    {
      "cell_type": "markdown",
      "source": [
        "### Saving the model\n",
        "\n",
        "we'll need to wrap the translate method in a tf.function."
      ],
      "metadata": {
        "id": "4MJiuYi40q4g"
      }
    },
    {
      "cell_type": "code",
      "source": [
        "class Export(tf.Module):\n",
        "  def __init__(self, model):\n",
        "    self.model = model\n",
        "\n",
        "  @tf.function(input_signature=[tf.TensorSpec(dtype=tf.string, shape=[None])])\n",
        "  def translate(self, inputs):\n",
        "    return self.model.translate(inputs)"
      ],
      "metadata": {
        "id": "i26yr3bd9_2b"
      },
      "execution_count": 48,
      "outputs": []
    },
    {
      "cell_type": "code",
      "source": [
        "export = Export(model)"
      ],
      "metadata": {
        "id": "LgKlJwLC-Jf1"
      },
      "execution_count": 49,
      "outputs": []
    },
    {
      "cell_type": "code",
      "source": [
        "%%time\n",
        "_ = export.translate(tf.constant(inputs))"
      ],
      "metadata": {
        "id": "KLTJTl0R-MX2",
        "colab": {
          "base_uri": "https://localhost:8080/"
        },
        "outputId": "db08d47c-eb17-4cd6-96fd-defd0e212cc9"
      },
      "execution_count": 50,
      "outputs": [
        {
          "output_type": "stream",
          "name": "stdout",
          "text": [
            "CPU times: user 1min 3s, sys: 1.48 s, total: 1min 5s\n",
            "Wall time: 1min 4s\n"
          ]
        }
      ]
    },
    {
      "cell_type": "code",
      "source": [
        "result = export.translate(tf.constant(inputs))\n",
        "\n",
        "print(result[0].numpy().decode())\n",
        "print(result[1].numpy().decode())\n",
        "print(result[2].numpy().decode())"
      ],
      "metadata": {
        "id": "Xn5MkHlv-OzR",
        "colab": {
          "base_uri": "https://localhost:8080/"
        },
        "outputId": "7ac54d54-fcab-460f-efc2-094431dc7cb9"
      },
      "execution_count": 51,
      "outputs": [
        {
          "output_type": "stream",
          "name": "stdout",
          "text": [
            "it is very cold here .                                            \n",
            "this is my life .                                             \n",
            "his room is a disaster .                                            \n"
          ]
        }
      ]
    },
    {
      "cell_type": "code",
      "source": [
        "tf.saved_model.save(export, 'translator', signatures={'serving_default': export.translate})"
      ],
      "metadata": {
        "id": "ZMOilRsR-skt",
        "colab": {
          "base_uri": "https://localhost:8080/"
        },
        "outputId": "eea0a3f2-fa22-4373-f750-934c976b3080"
      },
      "execution_count": 52,
      "outputs": [
        {
          "output_type": "stream",
          "name": "stderr",
          "text": [
            "WARNING:tensorflow:Model's `__init__()` arguments contain non-serializable objects. Please implement a `get_config()` method in the subclassed Model for proper saving and loading. Defaulting to empty config.\n",
            "WARNING:tensorflow:Model's `__init__()` arguments contain non-serializable objects. Please implement a `get_config()` method in the subclassed Model for proper saving and loading. Defaulting to empty config.\n",
            "WARNING:absl:Found untraced functions such as embedding_3_layer_call_fn, embedding_3_layer_call_and_return_conditional_losses, embedding_4_layer_call_fn, embedding_4_layer_call_and_return_conditional_losses, luong_attention_2_layer_call_fn while saving (showing 5 of 12). These functions will not be directly callable after loading.\n"
          ]
        }
      ]
    },
    {
      "cell_type": "code",
      "source": [
        "reloaded = tf.saved_model.load('translator')\n",
        "_ = reloaded.translate(tf.constant(inputs)) #warmup"
      ],
      "metadata": {
        "id": "z8xPm0HD-zml"
      },
      "execution_count": 53,
      "outputs": []
    },
    {
      "cell_type": "code",
      "source": [
        "result = reloaded.translate(tf.constant(inputs))\n",
        "\n",
        "print(result[0].numpy().decode())\n",
        "print(result[1].numpy().decode())\n",
        "print(result[2].numpy().decode())"
      ],
      "metadata": {
        "id": "452a45Im_Yuf",
        "colab": {
          "base_uri": "https://localhost:8080/"
        },
        "outputId": "2e381d97-3a23-46fb-ede1-9375b1d12710"
      },
      "execution_count": 54,
      "outputs": [
        {
          "output_type": "stream",
          "name": "stdout",
          "text": [
            "it is very cold here .                                            \n",
            "this is my life .                                             \n",
            "his room is a disaster .                                            \n"
          ]
        }
      ]
    },
    {
      "cell_type": "code",
      "source": [],
      "metadata": {
        "id": "oT3CQ3DC8MWg"
      },
      "execution_count": 54,
      "outputs": []
    }
  ]
}