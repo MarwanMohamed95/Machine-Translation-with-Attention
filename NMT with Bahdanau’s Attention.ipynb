{
  "cells": [
    {
      "cell_type": "markdown",
      "metadata": {
        "id": "B50XLdSe9Sv3"
      },
      "source": [
        "# **Neural Machine Translation**\n",
        "\n",
        "This tutorial demonstrates how to train a sequence-to-sequence (seq2seq) model for Spanish-to-English translation using [Bahdanau’s Attention](https://arxiv.org/abs/1409.0473)"
      ]
    },
    {
      "cell_type": "markdown",
      "metadata": {
        "id": "vQeEejgMVq4n"
      },
      "source": [
        "### Installing and Importing Libraries"
      ]
    },
    {
      "cell_type": "code",
      "execution_count": 1,
      "metadata": {
        "id": "cXghu2Mh_DAU"
      },
      "outputs": [],
      "source": [
        "%%capture\n",
        "!pip install \"tensorflow-text>=2.11\""
      ]
    },
    {
      "cell_type": "code",
      "execution_count": 2,
      "metadata": {
        "id": "rkAbO4Rf_J95"
      },
      "outputs": [],
      "source": [
        "import numpy as np\n",
        "\n",
        "import matplotlib.pyplot as plt\n",
        "import matplotlib.ticker as ticker\n",
        "\n",
        "import tensorflow_text as tf_text\n",
        "import tensorflow as tf"
      ]
    },
    {
      "cell_type": "markdown",
      "metadata": {
        "id": "UQ5Xmk9yWFS9"
      },
      "source": [
        "### Loading the data"
      ]
    },
    {
      "cell_type": "code",
      "execution_count": 3,
      "metadata": {
        "colab": {
          "base_uri": "https://localhost:8080/"
        },
        "id": "GnDO839k_LwT",
        "outputId": "a580acf3-c0d8-4817-cb3f-f4c009710086"
      },
      "outputs": [
        {
          "output_type": "stream",
          "name": "stdout",
          "text": [
            "Downloading data from http://storage.googleapis.com/download.tensorflow.org/data/spa-eng.zip\n",
            "2638744/2638744 [==============================] - 0s 0us/step\n"
          ]
        }
      ],
      "source": [
        "# Download the file\n",
        "import pathlib\n",
        "\n",
        "path_to_zip = tf.keras.utils.get_file('spa-eng.zip', origin='http://storage.googleapis.com/download.tensorflow.org/data/spa-eng.zip', extract=True)\n",
        "\n",
        "path_to_file = pathlib.Path(path_to_zip).parent/'spa-eng/spa.txt'"
      ]
    },
    {
      "cell_type": "code",
      "execution_count": 4,
      "metadata": {
        "colab": {
          "base_uri": "https://localhost:8080/"
        },
        "id": "vqKOXgs7_OkN",
        "outputId": "5e7006b7-6cd5-4181-fb23-4705eb80ddf8"
      },
      "outputs": [
        {
          "output_type": "stream",
          "name": "stdout",
          "text": [
            "Number of Samples:  118964\n"
          ]
        }
      ],
      "source": [
        "# reading the data\n",
        "def load_data(path):\n",
        "  # reading the data\n",
        "  text = path.read_text(encoding='utf-8')\n",
        "  lines = text.splitlines()\n",
        "\n",
        "  # splitting the data (source and target) by the separator tab\n",
        "  pairs = [line.split('\\t') for line in lines]\n",
        "\n",
        "  # context and target arrays\n",
        "  context = np.array([context for target, context in pairs])\n",
        "  target = np.array([target for target, context in pairs])\n",
        "\n",
        "  return context, target \n",
        "\n",
        "context_raw, target_raw = load_data(path_to_file)\n",
        "print(\"Number of Samples: \",len(context_raw))"
      ]
    },
    {
      "cell_type": "code",
      "execution_count": 5,
      "metadata": {
        "colab": {
          "base_uri": "https://localhost:8080/",
          "height": 53
        },
        "id": "pDcab6XI5pVW",
        "outputId": "09612daa-217e-422f-e67e-96d44a5db7c1"
      },
      "outputs": [
        {
          "output_type": "execute_result",
          "data": {
            "text/plain": [
              "'Si quieres sonar como un hablante nativo, debes estar dispuesto a practicar diciendo la misma frase una y otra vez de la misma manera en que un músico de banjo practica el mismo fraseo una y otra vez hasta que lo puedan tocar correctamente y en el tiempo esperado.'"
            ],
            "application/vnd.google.colaboratory.intrinsic+json": {
              "type": "string"
            }
          },
          "metadata": {},
          "execution_count": 5
        }
      ],
      "source": [
        "context_raw[-1]"
      ]
    },
    {
      "cell_type": "code",
      "execution_count": 6,
      "metadata": {
        "colab": {
          "base_uri": "https://localhost:8080/",
          "height": 53
        },
        "id": "PZwbsB8O5_Ix",
        "outputId": "f6034f23-bd62-42fb-acaf-4486951d8266"
      },
      "outputs": [
        {
          "output_type": "execute_result",
          "data": {
            "text/plain": [
              "'If you want to sound like a native speaker, you must be willing to practice saying the same sentence over and over in the same way that banjo players practice the same phrase over and over until they can play it correctly and at the desired tempo.'"
            ],
            "application/vnd.google.colaboratory.intrinsic+json": {
              "type": "string"
            }
          },
          "metadata": {},
          "execution_count": 6
        }
      ],
      "source": [
        "target_raw[-1]"
      ]
    },
    {
      "cell_type": "markdown",
      "metadata": {
        "id": "vaGe5mu1W3bh"
      },
      "source": [
        "### Processing the data"
      ]
    },
    {
      "cell_type": "code",
      "execution_count": 7,
      "metadata": {
        "id": "dFrMzSFl_XLF"
      },
      "outputs": [],
      "source": [
        "# Creating a tf.data dataset of the strings that shuffles and batches\n",
        "BUFFER_SIZE = len(context_raw)\n",
        "BATCH_SIZE = 64\n",
        "\n",
        "is_train = np.random.uniform(size=(len(target_raw),)) < 0.8\n",
        "\n",
        "train_raw = (tf.data.Dataset.from_tensor_slices((context_raw[is_train], target_raw[is_train])).shuffle(BUFFER_SIZE).batch(BATCH_SIZE))\n",
        "val_raw = (tf.data.Dataset.from_tensor_slices((context_raw[~is_train], target_raw[~is_train])).shuffle(BUFFER_SIZE).batch(BATCH_SIZE))"
      ]
    },
    {
      "cell_type": "code",
      "execution_count": 8,
      "metadata": {
        "colab": {
          "base_uri": "https://localhost:8080/"
        },
        "id": "TG5NkKBm_aPq",
        "outputId": "4de35d65-f4a4-4782-e91c-e78b006dc824"
      },
      "outputs": [
        {
          "output_type": "stream",
          "name": "stdout",
          "text": [
            "tf.Tensor(\n",
            "[b'Eso suena muy tentador.' b'Nosotras tres permaneceremos juntas.'\n",
            " b'Tom no conoce su propia fuerza.'\n",
            " b'Tom solo pod\\xc3\\xada entender un poco de franc\\xc3\\xa9s entonces.'\n",
            " b'Los humanos nunca fueron hechos para vivir eternamente.'], shape=(5,), dtype=string)\n",
            "\n",
            "tf.Tensor(\n",
            "[b'That sounds very tempting.' b'We three will stick together.'\n",
            " b\"Tom doesn't know his own strength.\"\n",
            " b'Tom could only understand a little French then.'\n",
            " b'Humans were never meant to live forever.'], shape=(5,), dtype=string)\n"
          ]
        }
      ],
      "source": [
        "for example_context_strings, example_target_strings in train_raw.take(1):\n",
        "  print(example_context_strings[:5])\n",
        "  print()\n",
        "  print(example_target_strings[:5])"
      ]
    },
    {
      "cell_type": "code",
      "execution_count": 9,
      "metadata": {
        "id": "6AqTYuMG_fIP"
      },
      "outputs": [],
      "source": [
        "# standardizing and processing the text\n",
        "def tf_lower_and_split_punct(text):\n",
        "  # Split accented characters.\n",
        "  text = tf_text.normalize_utf8(text, 'NFKD')\n",
        "  text = tf.strings.lower(text)\n",
        "  # Keep space, a to z, and select punctuation.\n",
        "  text = tf.strings.regex_replace(text, '[^ a-z.?!,¿]', '')\n",
        "  # Add spaces around punctuation.\n",
        "  text = tf.strings.regex_replace(text, '[.?!,¿]', r' \\0 ')\n",
        "  # Strip whitespace.\n",
        "  text = tf.strings.strip(text)\n",
        "  # prepend and append START and END tokens to each sentence in the context and target\n",
        "  text = tf.strings.join(['[START]', text, '[END]'], separator=' ')\n",
        "  return text"
      ]
    },
    {
      "cell_type": "code",
      "execution_count": 10,
      "metadata": {
        "colab": {
          "base_uri": "https://localhost:8080/"
        },
        "id": "oUwQieIM7hwR",
        "outputId": "e1a9bd6f-6f84-436a-d06a-0e77e60d31f8"
      },
      "outputs": [
        {
          "output_type": "stream",
          "name": "stdout",
          "text": [
            "¿Todavía está en casa?\n",
            "[START] ¿ todavia esta en casa ? [END]\n"
          ]
        }
      ],
      "source": [
        "example_text = tf.constant('¿Todavía está en casa?')\n",
        "print(example_text.numpy().decode())\n",
        "print(tf_lower_and_split_punct(example_text).numpy().decode())"
      ]
    },
    {
      "cell_type": "markdown",
      "metadata": {
        "id": "O1IDMD6KYSbw"
      },
      "source": [
        "This standardization function will be wrapped up in a tf.keras.layers.TextVectorization layer which will handle the vocabulary extraction and conversion of input text to sequences of tokens."
      ]
    },
    {
      "cell_type": "code",
      "execution_count": 11,
      "metadata": {
        "colab": {
          "base_uri": "https://localhost:8080/"
        },
        "id": "nKtuCQXu_imi",
        "outputId": "e569d379-63b9-4900-d767-c962ffba58e1"
      },
      "outputs": [
        {
          "output_type": "execute_result",
          "data": {
            "text/plain": [
              "['', '[UNK]', '[START]', '[END]', '.', 'que', 'de', 'el', 'a', 'no']"
            ]
          },
          "metadata": {},
          "execution_count": 11
        }
      ],
      "source": [
        "max_vocab_size = 5000\n",
        "\n",
        "# the Spanish TextVectorization\n",
        "context_text_processor = tf.keras.layers.TextVectorization(standardize=tf_lower_and_split_punct, max_tokens=max_vocab_size, ragged=True)\n",
        "# This adapt method initializes the layer based on the data.\n",
        "context_text_processor.adapt(train_raw.map(lambda context, target: context))\n",
        "\n",
        "# The first 10 words from context the vocabulary\n",
        "context_text_processor.get_vocabulary()[:10]"
      ]
    },
    {
      "cell_type": "code",
      "execution_count": 12,
      "metadata": {
        "colab": {
          "base_uri": "https://localhost:8080/"
        },
        "id": "RXS9YzGc_oND",
        "outputId": "be02b444-28ca-4272-fe78-7bf002656825"
      },
      "outputs": [
        {
          "output_type": "execute_result",
          "data": {
            "text/plain": [
              "['', '[UNK]', '[START]', '[END]', '.', 'the', 'i', 'to', 'you', 'tom']"
            ]
          },
          "metadata": {},
          "execution_count": 12
        }
      ],
      "source": [
        "# the English TextVectorization\n",
        "target_text_processor = tf.keras.layers.TextVectorization(standardize=tf_lower_and_split_punct, max_tokens=max_vocab_size, ragged=True)\n",
        "# This adapt method initializes the layer based on the data.\n",
        "target_text_processor.adapt(train_raw.map(lambda context, target: target))\n",
        "\n",
        "# The first 10 words from target the vocabulary\n",
        "target_text_processor.get_vocabulary()[:10]"
      ]
    },
    {
      "cell_type": "code",
      "execution_count": 13,
      "metadata": {
        "colab": {
          "base_uri": "https://localhost:8080/"
        },
        "id": "qwnJuprb_pyu",
        "outputId": "174db381-bb9c-434a-9ae5-9a0c68d4f4c9"
      },
      "outputs": [
        {
          "output_type": "execute_result",
          "data": {
            "text/plain": [
              "<tf.RaggedTensor [[2, 43, 911, 42, 1, 4, 3], [2, 1764, 131, 1, 3244, 4, 3],\n",
              " [2, 10, 9, 579, 25, 963, 1733, 4, 3]]>"
            ]
          },
          "metadata": {},
          "execution_count": 13
        }
      ],
      "source": [
        "example_tokens = context_text_processor(example_context_strings)\n",
        "example_tokens[:3, :]"
      ]
    },
    {
      "cell_type": "code",
      "execution_count": 14,
      "metadata": {
        "colab": {
          "base_uri": "https://localhost:8080/",
          "height": 35
        },
        "id": "qaPBkXaR_rf2",
        "outputId": "ce4b29e2-52cc-40a9-be5c-d33102c1847a"
      },
      "outputs": [
        {
          "output_type": "execute_result",
          "data": {
            "text/plain": [
              "'[START] eso suena muy [UNK] . [END]'"
            ],
            "application/vnd.google.colaboratory.intrinsic+json": {
              "type": "string"
            }
          },
          "metadata": {},
          "execution_count": 14
        }
      ],
      "source": [
        "context_vocab = np.array(context_text_processor.get_vocabulary())\n",
        "tokens = context_vocab[example_tokens[0].numpy()]\n",
        "' '.join(tokens)"
      ]
    },
    {
      "cell_type": "code",
      "execution_count": 15,
      "metadata": {
        "id": "adXIrR9t_tDV"
      },
      "outputs": [],
      "source": [
        "# The process_text function below converts the Datasets of strings, into 0-padded tensors of token IDs.\n",
        "# It also converts from a (context, target) pair to an ((context, target_in), target_out) pair for training with keras.Model.fit.\n",
        "# The difference between target_in and target_out is that they are shifted by one step relative to eachother,\n",
        "# so that at each location the label is the next token.\n",
        "def process_text(context, target):\n",
        "  # convert the context strings to 0-padded tensors of token IDs.\n",
        "  context = context_text_processor(context).to_tensor()\n",
        "  # convert the target strings to ragged tensors of token IDs.\n",
        "  target = target_text_processor(target)\n",
        "  # 0-padded target tensors of token IDs except the last token\n",
        "  targ_in = target[:,:-1].to_tensor()\n",
        "  # 0-padded target tensors of token IDs shifted by one step relative to targ_in\n",
        "  targ_out = target[:,1:].to_tensor()\n",
        "  return (context, targ_in), targ_out\n",
        "\n",
        "\n",
        "train_ds = train_raw.map(process_text, tf.data.AUTOTUNE)\n",
        "val_ds = val_raw.map(process_text, tf.data.AUTOTUNE)"
      ]
    },
    {
      "cell_type": "code",
      "execution_count": 16,
      "metadata": {
        "colab": {
          "base_uri": "https://localhost:8080/"
        },
        "id": "uTeohPwd_vDy",
        "outputId": "f1062f66-1baf-447b-9a67-6b416b97619f"
      },
      "outputs": [
        {
          "output_type": "stream",
          "name": "stdout",
          "text": [
            "[   2   41  992    5  188    8  333   56   14   11 3252    4    3    0\n",
            "    0    0    0    0    0    0    0    0    0    0    0]\n",
            "\n",
            "[   2   40  237  310  206  102   14    5 1652    4    0    0    0    0\n",
            "    0    0    0    0    0    0    0    0    0    0]\n",
            "[  40  237  310  206  102   14    5 1652    4    3    0    0    0    0\n",
            "    0    0    0    0    0    0    0    0    0    0]\n"
          ]
        }
      ],
      "source": [
        "for (context_tokens, target_tokens_in), target_tokens_out in train_ds.take(1):\n",
        "  print(context_tokens[0].numpy()) \n",
        "  print()\n",
        "  print(target_tokens_in[0].numpy()) \n",
        "  print(target_tokens_out[0].numpy())"
      ]
    },
    {
      "cell_type": "markdown",
      "metadata": {
        "id": "q8mhf2jxbDfX"
      },
      "source": [
        "### The encoder/decoder\n",
        "The following diagrams shows an overview of the model. In both the encoder is on the left, the decoder is on the right. At each time-step the decoder's output is combined with the encoder's output, to predict the next word.\n",
        "\n",
        "![image.jpg](https://github.com/MarwanMohamed95/Neural-Machine-Translation-with-Attention/blob/main/attention_mechanism.jpg?raw=true)"
      ]
    },
    {
      "cell_type": "code",
      "execution_count": 17,
      "metadata": {
        "id": "-bE6vMnq_wjo"
      },
      "outputs": [],
      "source": [
        "ENCODER_UNITS = 256\n",
        "DECODER_UNITS = 512"
      ]
    },
    {
      "cell_type": "markdown",
      "metadata": {
        "id": "PHEdWvNve0XL"
      },
      "source": [
        "### Encoder\n",
        "\n",
        "The goal of the encoder is to process the context sequence into a sequence of vectors that are useful for the decoder as it attempts to predict the next output for each timestep.\n",
        "\n",
        "The encoder:\n",
        "\n",
        "1.   Takes a list of token IDs (from context_text_processor).\n",
        "2.   Looks up an embedding vector for each token (Using a layers.Embedding).\n",
        "3.   Processes the embeddings into a new sequence (Using a bidirectional layers.GRU).\n",
        "4.   Returns the processed sequence. This will be passed to the attention.   \n"
      ]
    },
    {
      "cell_type": "code",
      "execution_count": 18,
      "metadata": {
        "id": "tU5D0_zk_yjz"
      },
      "outputs": [],
      "source": [
        "class Encoder(tf.keras.layers.Layer):\n",
        "  def __init__(self, text_processor, units):\n",
        "    super(Encoder, self).__init__()\n",
        "    self.text_processor = text_processor\n",
        "    self.vocab_size = text_processor.vocabulary_size()\n",
        "    self.units = units\n",
        "\n",
        "    # The embedding layer converts tokens to vectors\n",
        "    self.embedding = tf.keras.layers.Embedding(self.vocab_size, units, mask_zero=True)\n",
        "\n",
        "    # The RNN layer processes those vectors sequentially.\n",
        "    self.rnn = tf.keras.layers.Bidirectional(\n",
        "        layer=tf.keras.layers.GRU(units, return_state=True, return_sequences=True, recurrent_initializer='glorot_uniform'))\n",
        "\n",
        "  def call(self, sourceTokens, state = None):\n",
        "\n",
        "    # The embedding layer looks up the embedding vector for each token.\n",
        "    sourceVectors = self.embedding(sourceTokens)\n",
        "\n",
        "    # The GRU processes the sequence of embeddings.\n",
        "    (encOutput, encFwdState, encBckState) = self.rnn(inputs = sourceVectors,initial_state=state)\n",
        "\n",
        "    # Returns the new sequence of embeddings.\n",
        "    return (encOutput, encFwdState, encBckState)\n",
        "\n",
        "  def convert_input(self, texts):\n",
        "    texts = tf.convert_to_tensor(texts)\n",
        "    if len(texts.shape) == 0:\n",
        "      texts = tf.convert_to_tensor(texts)[tf.newaxis]\n",
        "    context = self.text_processor(texts).to_tensor()\n",
        "    context, encFwdState, encBckState = self(context)\n",
        "    return context, encFwdState, encBckState"
      ]
    },
    {
      "cell_type": "code",
      "execution_count": 19,
      "metadata": {
        "colab": {
          "base_uri": "https://localhost:8080/"
        },
        "id": "opEJOZqU_0c-",
        "outputId": "677c931a-48a8-49e6-ae7e-dca58e357e63"
      },
      "outputs": [
        {
          "output_type": "stream",
          "name": "stdout",
          "text": [
            "Context tokens, shape (batch, s): (64, 25)\n",
            "Encoder output, shape (batch, s, units): (64, 25, 512)\n"
          ]
        }
      ],
      "source": [
        "# Encode the input sequence.\n",
        "encoder = Encoder(context_text_processor, ENCODER_UNITS)\n",
        "encOutput, encFwdState, encBckState = encoder(context_tokens)\n",
        "\n",
        "print(f'Context tokens, shape (batch, s): {context_tokens.shape}')\n",
        "print(f'Encoder output, shape (batch, s, units): {encOutput.shape}')"
      ]
    },
    {
      "cell_type": "markdown",
      "metadata": {
        "id": "rzI7rcQXgxls"
      },
      "source": [
        "### The attention layer\n",
        "The attention layer lets the decoder access the information extracted by the encoder. It computes a vector from the entire context sequence, and concats that to the decoder's output."
      ]
    },
    {
      "cell_type": "markdown",
      "metadata": {
        "id": "7jJB1q0yi7wv"
      },
      "source": [
        "$$\n",
        "\\begin{aligned}\n",
        "e_{t, t'} &= v_a^T \\cdot \\tanh(W_a \\cdot h_t + U_a \\cdot \\tilde{h}_{t'}) \\\\\n",
        "\\alpha_{t, t'} &= \\frac{\\exp(e_{t, t'})}{\\sum_{k=1}^T \\exp(e_{t, k})} \\\\\n",
        "c_t &= \\sum_{t'=1}^T \\alpha_{t, t'} \\cdot \\tilde{h}_{t'}\n",
        "\\end{aligned}\n",
        "$$\n",
        "\n",
        "- $e_{t, t'}$: The score or energy computed between the decoder hidden state at time step $t$ and the encoder hidden state $\\tilde{h}_{t'}$ at time step $t'$. It represents the \"compatibility\" between the two hidden states, and is used to compute the attention weights.\n",
        "- $v_a$: A learnable vector used to compute the attention weights.\n",
        "- $W_a$ and $U_a$: Learnable weight matrices used to compute the attention weights.\n",
        "- $\\tanh$: The hyperbolic tangent activation function.\n",
        "- $\\alpha_{t, t'}$: The attention weight for encoder hidden state $\\tilde{h}_{t'}$ at time step $t'$. It represents the relevance of the encoder hidden state for predicting the decoder hidden state at time step $t$.\n",
        "- $c_t$: The context vector at time step $t$. It is a weighted sum of the encoder hidden states $\\tilde{h}{t'}$ with attention weights $\\alpha{t, t'}$. It represents the information from the input sequence that is most relevant for predicting the next output word."
      ]
    },
    {
      "cell_type": "code",
      "source": [
        "class BahdanauAttention(tf.keras.layers.Layer):\n",
        "  def __init__(self, units):\n",
        "    super().__init__()\n",
        "    self.W1 = tf.keras.layers.Dense(units)\n",
        "    self.W2 = tf.keras.layers.Dense(units)\n",
        "    self.V = tf.keras.layers.Dense(1)\n",
        "\n",
        "  def call(self, query, values):\n",
        "    # query shape: (batch, t, units)\n",
        "    # values shape: (batch, s, units)\n",
        "\n",
        "    # Expand query to shape (batch, t, 1, units)\n",
        "    query_with_time_axis = tf.expand_dims(query, -2)\n",
        "    # Expand values to shape (batch, 1, s, units)\n",
        "    values_with_time_axis = tf.expand_dims(values, -3)\n",
        "\n",
        "    # Compute the score for each input in `values` using a feedforward neural network.\n",
        "    score = self.V(tf.nn.tanh(self.W1(query_with_time_axis) + self.W2(values_with_time_axis)))\n",
        "\n",
        "    # Compute the attention weights using softmax.\n",
        "    attention_weights = tf.nn.softmax(score, axis=2)\n",
        "\n",
        "    # Compute the context vector as a weighted sum of the `values`.\n",
        "    context = attention_weights * values_with_time_axis \n",
        "    context = tf.reduce_sum(context, axis=2)\n",
        "\n",
        "    attention_weights = tf.squeeze(attention_weights, axis=-1)\n",
        "    self.last_attention_weights = attention_weights\n",
        "    return context\n"
      ],
      "metadata": {
        "id": "Gebn22x_RK8f"
      },
      "execution_count": 20,
      "outputs": []
    },
    {
      "cell_type": "code",
      "execution_count": 21,
      "metadata": {
        "colab": {
          "base_uri": "https://localhost:8080/"
        },
        "id": "mAh996iwCmbj",
        "outputId": "f04d7d04-82c3-4486-c953-fe20a404b616"
      },
      "outputs": [
        {
          "output_type": "stream",
          "name": "stdout",
          "text": [
            "Context sequence, shape (batch, s, units): (64, 25, 512)\n",
            "Target sequence, shape (batch, t, units):  (64, 24, 512)\n",
            "Attention result, shape (batch, t, units): (64, 24, 512)\n",
            "Attention weights, shape (batch, t, s):    (64, 24, 25)\n"
          ]
        }
      ],
      "source": [
        "attention_layer = BahdanauAttention(DECODER_UNITS)\n",
        "\n",
        "# Attend to the encoded tokens\n",
        "embed = tf.keras.layers.Embedding(target_text_processor.vocabulary_size(), output_dim=DECODER_UNITS, mask_zero=True)\n",
        "target_embedding_in = embed(target_tokens_in)\n",
        "\n",
        "result = attention_layer(query = target_embedding_in, values=encOutput)\n",
        "\n",
        "print(f'Context sequence, shape (batch, s, units): {encOutput.shape}')\n",
        "print(f'Target sequence, shape (batch, t, units):  {target_embedding_in.shape}')\n",
        "print(f'Attention result, shape (batch, t, units): {result.shape}')\n",
        "print(f'Attention weights, shape (batch, t, s):    {attention_layer.last_attention_weights.shape}')"
      ]
    },
    {
      "cell_type": "markdown",
      "metadata": {
        "id": "yIVmuafSrz-d"
      },
      "source": [
        "The attention weights will sum to 1 over the context sequence, at each location in the target sequence."
      ]
    },
    {
      "cell_type": "code",
      "execution_count": 22,
      "metadata": {
        "colab": {
          "base_uri": "https://localhost:8080/"
        },
        "id": "04b-2hY-ABwF",
        "outputId": "db3a2eaa-9d70-474c-fa03-9b0363e93a83"
      },
      "outputs": [
        {
          "output_type": "execute_result",
          "data": {
            "text/plain": [
              "array([1.       , 1.       , 1.       , 1.       , 1.       , 1.       ,\n",
              "       1.       , 1.0000001, 1.       , 1.       , 1.       , 1.       ,\n",
              "       1.       , 1.       , 1.       , 1.       , 1.       , 1.       ,\n",
              "       1.       , 1.       , 1.       , 1.       , 1.       , 1.       ],\n",
              "      dtype=float32)"
            ]
          },
          "metadata": {},
          "execution_count": 22
        }
      ],
      "source": [
        "attention_layer.last_attention_weights[1].numpy().sum(axis=-1)"
      ]
    },
    {
      "cell_type": "markdown",
      "metadata": {
        "id": "Oz5VTlOnr-f0"
      },
      "source": [
        "### The decoder\n",
        "The decoder's job is to generate predictions for the next token at each location in the target sequence.\n",
        "\n",
        "1.   It looks up embeddings for each token in the target sequence.\n",
        "2.   It uses an RNN to process the target sequence, and keep track of what it has generated so far.\n",
        "3.   It uses RNN output as the \"query\" to the attention layer, when attending to the encoder's output.\n",
        "4.   At each location in the output it predicts the next token."
      ]
    },
    {
      "cell_type": "code",
      "execution_count": 23,
      "metadata": {
        "id": "Sl3Vxv6WAI4k"
      },
      "outputs": [],
      "source": [
        "class Decoder(tf.keras.layers.Layer):\n",
        "  @classmethod\n",
        "  def add_method(cls, fun):\n",
        "    setattr(cls, fun.__name__, fun)\n",
        "    return fun\n",
        "\n",
        "  def __init__(self, text_processor, units):\n",
        "    super(Decoder, self).__init__()\n",
        "    self.text_processor = text_processor\n",
        "    self.vocab_size = text_processor.vocabulary_size()\n",
        "\n",
        "    self.units = units\n",
        "\n",
        "    # The embedding layer converts token IDs to vectors\n",
        "    self.embedding = tf.keras.layers.Embedding(self.vocab_size, units, mask_zero=True)\n",
        "\n",
        "    # The RNN keeps track of what's been generated so far.\n",
        "    self.rnn = tf.keras.layers.GRU(units, return_sequences=True, return_state=True, recurrent_initializer='glorot_uniform')\n",
        "\n",
        "    # The RNN output will be the query for the attention layer.\n",
        "    self.attention = BahdanauAttention(units)\n",
        "\n",
        "    # This fully connected layer produces the logits for each output token.\n",
        "    self.fwdNeuralNet = tf.keras.models.Sequential([tf.keras.layers.Dense(units=self.units, activation=\"tanh\", use_bias=False,),\n",
        "                        tf.keras.layers.Dense(units=self.vocab_size,),])"
      ]
    },
    {
      "cell_type": "code",
      "execution_count": 24,
      "metadata": {
        "id": "Y1nlENfKANVu"
      },
      "outputs": [],
      "source": [
        "@Decoder.add_method\n",
        "def call(self, encOutput, targetTokens, state=None, return_state=False):  \n",
        "\n",
        "  # Lookup the embeddings\n",
        "  targetVectors = self.embedding(targetTokens)\n",
        "\n",
        "  # Process the target sequence.\n",
        "  (decOutput, decState) = self.rnn(inputs=targetVectors, initial_state=state,)\n",
        "\n",
        "  # Use the RNN output as the query for the attention over the context.\n",
        "  contextVector = self.attention(query=decOutput, values=encOutput,)\n",
        "  \n",
        "  self.last_attention_weights = self.attention.last_attention_weights\n",
        "\n",
        "  # concatenate the context vector and output of GRU layer\n",
        "  contextAndGruOutput = tf.concat([contextVector, decOutput], axis=-1)\n",
        "  logits = self.fwdNeuralNet(contextAndGruOutput)\n",
        "\n",
        "  if return_state:\n",
        "    return logits, decState\n",
        "  else:\n",
        "    return logits"
      ]
    },
    {
      "cell_type": "code",
      "execution_count": 25,
      "metadata": {
        "id": "uJBY8sWQASyh"
      },
      "outputs": [],
      "source": [
        "decoder = Decoder(target_text_processor, DECODER_UNITS)"
      ]
    },
    {
      "cell_type": "code",
      "execution_count": 26,
      "metadata": {
        "colab": {
          "base_uri": "https://localhost:8080/"
        },
        "id": "8lkf0NkgAWAF",
        "outputId": "a732160e-68a9-4f10-bfbf-8a698d37e244"
      },
      "outputs": [
        {
          "output_type": "stream",
          "name": "stdout",
          "text": [
            "encoder output shape: (batch, s, units) (64, 25, 512)\n",
            "input target tokens shape: (batch, t) (64, 24)\n",
            "logits shape shape: (batch, target_vocabulary_size) (64, 24, 5000)\n"
          ]
        }
      ],
      "source": [
        "logits = decoder(encOutput, target_tokens_in)\n",
        "\n",
        "print(f'encoder output shape: (batch, s, units) {encOutput.shape}')\n",
        "print(f'input target tokens shape: (batch, t) {target_tokens_in.shape}')\n",
        "print(f'logits shape shape: (batch, target_vocabulary_size) {logits.shape}')"
      ]
    },
    {
      "cell_type": "markdown",
      "metadata": {
        "id": "TWhpoa-Otxpm"
      },
      "source": [
        "### The model\n",
        "Now that we have all the model components, combine them to build the model for training."
      ]
    },
    {
      "cell_type": "code",
      "execution_count": 27,
      "metadata": {
        "id": "PaZXjgUvAd8R"
      },
      "outputs": [],
      "source": [
        "class Translator(tf.keras.Model):\n",
        "  @classmethod\n",
        "  def add_method(cls, fun):\n",
        "    setattr(cls, fun.__name__, fun)\n",
        "    return fun\n",
        "\n",
        "  def __init__(self, units, context_text_processor, target_text_processor):\n",
        "    super().__init__()\n",
        "    # Build the encoder and decoder\n",
        "    enc_units = units\n",
        "    dec_units = units*2\n",
        "    encoder = Encoder(context_text_processor, enc_units)\n",
        "    decoder = Decoder(target_text_processor, dec_units)\n",
        "\n",
        "    self.encoder = encoder\n",
        "    self.decoder = decoder\n",
        "\n",
        "    # target text processor\n",
        "    self.text_processor = target_text_processor\n",
        "    self.vocab_size = self.text_processor.vocabulary_size()\n",
        "    self.word_to_id = tf.keras.layers.StringLookup(vocabulary = self.text_processor.get_vocabulary(), mask_token='', oov_token='[UNK]')\n",
        "    self.id_to_word = tf.keras.layers.StringLookup(vocabulary = self.text_processor.get_vocabulary(), mask_token='', oov_token='[UNK]', invert=True)\n",
        "    self.start_token = self.word_to_id('[START]')\n",
        "    self.end_token = self.word_to_id('[END]')\n",
        "\n",
        "  def call(self, inputs):\n",
        "    context, target_in = inputs\n",
        "    encOutput, encFwdState, encBckState = self.encoder(context)\n",
        "    decState = tf.concat([encFwdState, encBckState], axis=-1)\n",
        "    logits = self.decoder(encOutput, target_in,state = decState)\n",
        "\n",
        "    try:\n",
        "      # Delete the keras mask, so keras doesn't scale the loss+accuracy. \n",
        "      del logits._keras_mask\n",
        "    except AttributeError:\n",
        "      pass\n",
        "\n",
        "    return logits"
      ]
    },
    {
      "cell_type": "code",
      "execution_count": 28,
      "metadata": {
        "colab": {
          "base_uri": "https://localhost:8080/"
        },
        "id": "IhQ6ifAADRFj",
        "outputId": "dbb93cb2-3182-43e1-98a2-a94cf7c29fd7"
      },
      "outputs": [
        {
          "output_type": "stream",
          "name": "stdout",
          "text": [
            "Context tokens, shape: (batch, s, units) (64, 25)\n",
            "Target tokens, shape: (batch, t) (64, 24)\n",
            "logits, shape: (batch, t, target_vocabulary_size) (64, 24, 5000)\n"
          ]
        }
      ],
      "source": [
        "model = Translator(ENCODER_UNITS, context_text_processor, target_text_processor)\n",
        "\n",
        "logits = model((context_tokens, target_tokens_in))\n",
        "\n",
        "print(f'Context tokens, shape: (batch, s, units) {context_tokens.shape}')\n",
        "print(f'Target tokens, shape: (batch, t) {target_tokens_in.shape}')\n",
        "print(f'logits, shape: (batch, t, target_vocabulary_size) {logits.shape}')"
      ]
    },
    {
      "cell_type": "markdown",
      "metadata": {
        "id": "jTA70xHJt9Cr"
      },
      "source": [
        "For training, you'll want to implement your own masked loss and accuracy functions"
      ]
    },
    {
      "cell_type": "code",
      "execution_count": 29,
      "metadata": {
        "id": "D4xC4-101FL7"
      },
      "outputs": [],
      "source": [
        "@Translator.add_method\n",
        "def tokens_to_text(self, tokens):\n",
        "  words = self.id_to_word(tokens)\n",
        "  result = tf.strings.reduce_join(words, axis=-1, separator=' ')\n",
        "  result = tf.strings.regex_replace(result, '^ *\\[START\\] *', '')\n",
        "  result = tf.strings.regex_replace(result, ' *\\[END\\] *$', '')\n",
        "  return result"
      ]
    },
    {
      "cell_type": "code",
      "execution_count": 30,
      "metadata": {
        "id": "BIfcxkVcAiIJ"
      },
      "outputs": [],
      "source": [
        "def masked_loss(y_true, y_pred):\n",
        "    # Calculate the loss for each item in the batch.\n",
        "    loss_fn = tf.keras.losses.SparseCategoricalCrossentropy(from_logits=True, reduction='none')\n",
        "    loss = loss_fn(y_true, y_pred)\n",
        "\n",
        "    # Mask off the losses on padding.\n",
        "    mask = tf.cast(y_true != 0, loss.dtype)\n",
        "    loss *= mask\n",
        "\n",
        "    # Return the total.\n",
        "    return tf.reduce_sum(loss)/tf.reduce_sum(mask)"
      ]
    },
    {
      "cell_type": "code",
      "execution_count": 31,
      "metadata": {
        "id": "Xbd_JJoJAlI0"
      },
      "outputs": [],
      "source": [
        "def masked_acc(y_true, y_pred):\n",
        "    # Calculate the loss for each item in the batch.\n",
        "    y_pred = tf.argmax(y_pred, axis=-1)\n",
        "    y_pred = tf.cast(y_pred, y_true.dtype)\n",
        "\n",
        "    match = tf.cast(y_true == y_pred, tf.float32)\n",
        "    mask = tf.cast(y_true != 0, tf.float32)\n",
        "\n",
        "    return tf.reduce_sum(match)/tf.reduce_sum(mask)"
      ]
    },
    {
      "cell_type": "code",
      "execution_count": 32,
      "metadata": {
        "id": "hbqf_SPDAmqn"
      },
      "outputs": [],
      "source": [
        "model.compile(optimizer='adam', loss=masked_loss, metrics=[masked_acc, masked_loss])"
      ]
    },
    {
      "cell_type": "code",
      "execution_count": 33,
      "metadata": {
        "colab": {
          "base_uri": "https://localhost:8080/"
        },
        "id": "i2jFFkmwAoCL",
        "outputId": "363a7548-812a-49f9-aee4-ab486a8d47f8"
      },
      "outputs": [
        {
          "output_type": "stream",
          "name": "stdout",
          "text": [
            "20/20 [==============================] - 8s 35ms/step - loss: 8.5171 - masked_acc: 4.5597e-04 - masked_loss: 8.5171\n"
          ]
        },
        {
          "output_type": "execute_result",
          "data": {
            "text/plain": [
              "{'loss': 8.517091751098633,\n",
              " 'masked_acc': 0.0004559719527605921,\n",
              " 'masked_loss': 8.517091751098633}"
            ]
          },
          "metadata": {},
          "execution_count": 33
        }
      ],
      "source": [
        "# model evaluation befor training\n",
        "model.evaluate(val_ds, steps=20, return_dict=True)"
      ]
    },
    {
      "cell_type": "code",
      "execution_count": 34,
      "metadata": {
        "colab": {
          "base_uri": "https://localhost:8080/"
        },
        "id": "07KIzjUHArEQ",
        "outputId": "0687c54a-8e3d-48ad-b9bd-ad3be3e6f03c"
      },
      "outputs": [
        {
          "output_type": "stream",
          "name": "stdout",
          "text": [
            "Epoch 1/30\n",
            "1000/1000 [==============================] - 109s 92ms/step - loss: 3.8884 - masked_acc: 0.3724 - masked_loss: 3.8884 - val_loss: 2.6345 - val_masked_acc: 0.5383 - val_masked_loss: 2.6345\n",
            "Epoch 2/30\n",
            "1000/1000 [==============================] - 64s 64ms/step - loss: 1.9796 - masked_acc: 0.6428 - masked_loss: 1.9794 - val_loss: 1.6386 - val_masked_acc: 0.6957 - val_masked_loss: 1.6386\n",
            "Epoch 3/30\n",
            "1000/1000 [==============================] - 68s 68ms/step - loss: 1.4336 - masked_acc: 0.7260 - masked_loss: 1.4336 - val_loss: 1.3505 - val_masked_acc: 0.7391 - val_masked_loss: 1.3505\n",
            "Epoch 4/30\n",
            "1000/1000 [==============================] - 66s 66ms/step - loss: 1.1082 - masked_acc: 0.7709 - masked_loss: 1.1082 - val_loss: 1.2400 - val_masked_acc: 0.7549 - val_masked_loss: 1.2400\n",
            "Epoch 5/30\n",
            "1000/1000 [==============================] - 72s 72ms/step - loss: 0.9669 - masked_acc: 0.7912 - masked_loss: 0.9669 - val_loss: 1.1959 - val_masked_acc: 0.7625 - val_masked_loss: 1.1959\n",
            "Epoch 6/30\n",
            "1000/1000 [==============================] - 67s 67ms/step - loss: 0.8886 - masked_acc: 0.8028 - masked_loss: 0.8887 - val_loss: 1.1301 - val_masked_acc: 0.7739 - val_masked_loss: 1.1301\n",
            "Epoch 7/30\n",
            "1000/1000 [==============================] - 66s 66ms/step - loss: 0.7122 - masked_acc: 0.8317 - masked_loss: 0.7122 - val_loss: 1.1353 - val_masked_acc: 0.7745 - val_masked_loss: 1.1353\n",
            "Epoch 8/30\n",
            "1000/1000 [==============================] - 64s 64ms/step - loss: 0.6487 - masked_acc: 0.8438 - masked_loss: 0.6488 - val_loss: 1.1244 - val_masked_acc: 0.7811 - val_masked_loss: 1.1244\n",
            "Epoch 9/30\n",
            "1000/1000 [==============================] - 59s 59ms/step - loss: 0.6116 - masked_acc: 0.8490 - masked_loss: 0.6117 - val_loss: 1.1232 - val_masked_acc: 0.7821 - val_masked_loss: 1.1232\n",
            "Epoch 10/30\n",
            "1000/1000 [==============================] - 56s 56ms/step - loss: 0.4763 - masked_acc: 0.8768 - masked_loss: 0.4763 - val_loss: 1.1495 - val_masked_acc: 0.7808 - val_masked_loss: 1.1495\n",
            "Epoch 11/30\n",
            "1000/1000 [==============================] - 62s 62ms/step - loss: 0.4432 - masked_acc: 0.8843 - masked_loss: 0.4432 - val_loss: 1.1720 - val_masked_acc: 0.7808 - val_masked_loss: 1.1720\n"
          ]
        }
      ],
      "source": [
        "train_steps = 1000\n",
        "val_steps = 300\n",
        "\n",
        "history = model.fit(train_ds.repeat(), \n",
        "                    epochs=30, steps_per_epoch = train_steps, \n",
        "                    validation_data=val_ds, validation_steps = val_steps,\n",
        "                    callbacks = [tf.keras.callbacks.EarlyStopping(patience=2)])"
      ]
    },
    {
      "cell_type": "code",
      "execution_count": 35,
      "metadata": {
        "colab": {
          "base_uri": "https://localhost:8080/",
          "height": 449
        },
        "id": "IZFCjszIElCt",
        "outputId": "140d919f-79e1-4a99-c2d6-99654e000f37"
      },
      "outputs": [
        {
          "output_type": "display_data",
          "data": {
            "text/plain": [
              "<Figure size 640x480 with 1 Axes>"
            ],
            "image/png": "[encoded data removed]"
          },
          "metadata": {}
        }
      ],
      "source": [
        "plt.plot(history.history['loss'], label='loss')\n",
        "plt.plot(history.history['val_loss'], label='val_loss')\n",
        "plt.ylim([0, max(plt.ylim())])\n",
        "plt.xlabel('Epoch #')\n",
        "plt.legend()\n",
        "plt.show()"
      ]
    },
    {
      "cell_type": "code",
      "execution_count": 36,
      "metadata": {
        "colab": {
          "base_uri": "https://localhost:8080/",
          "height": 449
        },
        "id": "kZ-IXBN5Ell6",
        "outputId": "a47dbc96-53f4-4683-a725-d0cc347cab06"
      },
      "outputs": [
        {
          "output_type": "display_data",
          "data": {
            "text/plain": [
              "<Figure size 640x480 with 1 Axes>"
            ],
            "image/png": "[encoded data removed]"
          },
          "metadata": {}
        }
      ],
      "source": [
        "plt.plot(history.history['masked_acc'], label='accuracy')\n",
        "plt.plot(history.history['val_masked_acc'], label='val_accuracy')\n",
        "plt.ylim([0, max(plt.ylim())])\n",
        "plt.xlabel('Epoch #')\n",
        "plt.legend()\n",
        "plt.show()"
      ]
    },
    {
      "cell_type": "code",
      "execution_count": 37,
      "metadata": {
        "colab": {
          "base_uri": "https://localhost:8080/"
        },
        "id": "_5vSUBv4OhMz",
        "outputId": "95a30a50-0fb3-4fbf-ecc5-0a351cf38b26"
      },
      "outputs": [
        {
          "output_type": "stream",
          "name": "stdout",
          "text": [
            "20/20 [==============================] - 1s 34ms/step - loss: 1.2209 - masked_acc: 0.7741 - masked_loss: 1.2209\n"
          ]
        },
        {
          "output_type": "execute_result",
          "data": {
            "text/plain": [
              "{'loss': 1.2208669185638428,\n",
              " 'masked_acc': 0.7741161584854126,\n",
              " 'masked_loss': 1.2208669185638428}"
            ]
          },
          "metadata": {},
          "execution_count": 37
        }
      ],
      "source": [
        "# model evaluation after training\n",
        "model.evaluate(val_ds, steps=20, return_dict=True)"
      ]
    },
    {
      "cell_type": "code",
      "execution_count": 38,
      "metadata": {
        "id": "pKNepLynyVtY"
      },
      "outputs": [],
      "source": [
        "#  This function to execute the full text => text translation.\n",
        "@Translator.add_method\n",
        "def translate(self, texts, *, max_length=50, temperature=0.0):\n",
        "  # Process the input texts\n",
        "  encOutput, encFwdState, encBckState = self.encoder.convert_input(texts)\n",
        "  state = tf.concat([encFwdState, encBckState], axis=-1)\n",
        "  batch_size = tf.shape(texts)[0]\n",
        "  \n",
        "  # Setup the loop inputs\n",
        "  tokens = []\n",
        "  attention_weights = []\n",
        "  next_token = tf.fill([batch_size, 1], self.start_token)\n",
        "  done = tf.zeros([batch_size, 1], dtype=tf.bool)\n",
        "  \n",
        "  for _ in range(max_length):\n",
        "    logits, state = self.decoder(encOutput, next_token,state = state,return_state=True)\n",
        "    if temperature == 0.0:\n",
        "      next_token = tf.argmax(logits, axis=-1)\n",
        "    else:\n",
        "      logits = logits[:, -1, :]/temperature\n",
        "      next_token = tf.random.categorical(logits, num_samples=1)\n",
        "\n",
        "    # If a sequence produces an `end_token`, set it `done`\n",
        "    done = done | (next_token == self.end_token)\n",
        "    # Once a sequence is done it only produces 0-padding.\n",
        "    next_token = tf.where(done, tf.constant(0, dtype=tf.int64), next_token)\n",
        "    # Collect the generated tokens\n",
        "    tokens.append(next_token)\n",
        "    attention_weights.append(self.decoder.last_attention_weights)\n",
        "\n",
        "    if tf.executing_eagerly() and tf.reduce_all(done):\n",
        "      break\n",
        "  # Stack the lists of tokens and attention weights.\n",
        "  tokens = tf.concat(tokens, axis=-1)   # t*[(batch 1)] -> (batch, t)\n",
        "  self.last_attention_weights = tf.concat(attention_weights, axis=1)  # t*[(batch 1 s)] -> (batch, t s)\n",
        "\n",
        "  result = self.tokens_to_text(tokens)\n",
        "  return result"
      ]
    },
    {
      "cell_type": "code",
      "execution_count": 39,
      "metadata": {
        "colab": {
          "base_uri": "https://localhost:8080/",
          "height": 35
        },
        "id": "VERQfKX8Y25W",
        "outputId": "06387593-c41f-41ff-a243-5ab864e7dfea"
      },
      "outputs": [
        {
          "output_type": "execute_result",
          "data": {
            "text/plain": [
              "'is he still at home ? '"
            ],
            "application/vnd.google.colaboratory.intrinsic+json": {
              "type": "string"
            }
          },
          "metadata": {},
          "execution_count": 39
        }
      ],
      "source": [
        "result = model.translate(['¿Todavía está en casa?']) # Are you still home\n",
        "result[0].numpy().decode()"
      ]
    },
    {
      "cell_type": "code",
      "execution_count": 40,
      "metadata": {
        "id": "QK4OQ9inZ_yS"
      },
      "outputs": [],
      "source": [
        "inputs = [\n",
        "    'Hace mucho frio aqui.', # \"It's really cold here.\"\n",
        "    'Esta es mi vida.', # \"This is my life.\"\n",
        "    'Su cuarto es un desastre.' # \"His room is a mess\"\n",
        "]"
      ]
    },
    {
      "cell_type": "code",
      "execution_count": 41,
      "metadata": {
        "colab": {
          "base_uri": "https://localhost:8080/"
        },
        "id": "yWYptJrv9xlO",
        "outputId": "c81c7f45-e70f-4dca-9c40-8173d5ac1bd6"
      },
      "outputs": [
        {
          "output_type": "stream",
          "name": "stdout",
          "text": [
            "its very cold here . \n",
            "this is my life . \n",
            "his room is a mess . \n"
          ]
        }
      ],
      "source": [
        "for t in inputs:\n",
        "  print(model.translate([t])[0].numpy().decode())"
      ]
    },
    {
      "cell_type": "code",
      "execution_count": 42,
      "metadata": {
        "id": "coswiqnbFJ4L"
      },
      "outputs": [],
      "source": [
        "@Translator.add_method\n",
        "def plot_attention(self, text, **kwargs):\n",
        "  assert isinstance(text, str)\n",
        "  output = self.translate([text], **kwargs)\n",
        "  output = output[0].numpy().decode()\n",
        "\n",
        "  attention = self.last_attention_weights[0]\n",
        "\n",
        "  context = tf_lower_and_split_punct(text)\n",
        "  context = context.numpy().decode().split()\n",
        "\n",
        "  output = tf_lower_and_split_punct(output)\n",
        "  output = output.numpy().decode().split()[1:]\n",
        "\n",
        "  fig = plt.figure(figsize=(10, 10))\n",
        "  ax = fig.add_subplot(1, 1, 1)\n",
        "\n",
        "  ax.matshow(attention, cmap='viridis', vmin=0.0)\n",
        "\n",
        "  fontdict = {'fontsize': 14}\n",
        "\n",
        "  ax.set_xticklabels([''] + context, fontdict=fontdict, rotation=90)\n",
        "  ax.set_yticklabels([''] + output, fontdict=fontdict)\n",
        "\n",
        "  ax.xaxis.set_major_locator(ticker.MultipleLocator(1))\n",
        "  ax.yaxis.set_major_locator(ticker.MultipleLocator(1))\n",
        "\n",
        "  ax.set_xlabel('Input text')\n",
        "  ax.set_ylabel('Output text')"
      ]
    },
    {
      "cell_type": "code",
      "execution_count": 43,
      "metadata": {
        "colab": {
          "base_uri": "https://localhost:8080/",
          "height": 893
        },
        "id": "jqBX3xtKFes9",
        "outputId": "b6e0f486-533f-4041-fc63-47100bdf11ad"
      },
      "outputs": [
        {
          "output_type": "stream",
          "name": "stderr",
          "text": [
            "<ipython-input-42-935149928b90>:22: UserWarning: FixedFormatter should only be used together with FixedLocator\n",
            "  ax.set_xticklabels([''] + context, fontdict=fontdict, rotation=90)\n",
            "<ipython-input-42-935149928b90>:23: UserWarning: FixedFormatter should only be used together with FixedLocator\n",
            "  ax.set_yticklabels([''] + output, fontdict=fontdict)\n"
          ]
        },
        {
          "output_type": "display_data",
          "data": {
            "text/plain": [
              "<Figure size 1000x1000 with 1 Axes>"
            ],
            "image/png": "[encoded data removed]"
          },
          "metadata": {}
        }
      ],
      "source": [
        "model.plot_attention('¿Todavía está en casa?') # Are you still home"
      ]
    },
    {
      "cell_type": "code",
      "execution_count": 44,
      "metadata": {
        "colab": {
          "base_uri": "https://localhost:8080/",
          "height": 879
        },
        "id": "CJ0p2qVdFlS5",
        "outputId": "c393dbe7-dcb3-4ea1-d6cf-f653a29db948"
      },
      "outputs": [
        {
          "output_type": "stream",
          "name": "stderr",
          "text": [
            "<ipython-input-42-935149928b90>:22: UserWarning: FixedFormatter should only be used together with FixedLocator\n",
            "  ax.set_xticklabels([''] + context, fontdict=fontdict, rotation=90)\n",
            "<ipython-input-42-935149928b90>:23: UserWarning: FixedFormatter should only be used together with FixedLocator\n",
            "  ax.set_yticklabels([''] + output, fontdict=fontdict)\n"
          ]
        },
        {
          "output_type": "display_data",
          "data": {
            "text/plain": [
              "<Figure size 1000x1000 with 1 Axes>"
            ],
            "image/png": "[encoded data removed]"
          },
          "metadata": {}
        }
      ],
      "source": [
        "model.plot_attention('Esta es mi vida.')  # This is my life."
      ]
    },
    {
      "cell_type": "code",
      "execution_count": 45,
      "metadata": {
        "colab": {
          "base_uri": "https://localhost:8080/",
          "height": 53
        },
        "id": "SPzUDEGCpeFQ",
        "outputId": "d2eec06d-cbbd-4179-8926-bcc7d53425c7"
      },
      "outputs": [
        {
          "output_type": "execute_result",
          "data": {
            "text/plain": [
              "'Si quieres sonar como un hablante nativo, debes estar dispuesto a practicar diciendo la misma frase una y otra vez de la misma manera en que un músico de banjo practica el mismo fraseo una y otra vez hasta que lo puedan tocar correctamente y en el tiempo esperado.'"
            ],
            "application/vnd.google.colaboratory.intrinsic+json": {
              "type": "string"
            }
          },
          "metadata": {},
          "execution_count": 45
        }
      ],
      "source": [
        "long_text = context_raw[-1]\n",
        "long_text"
      ]
    },
    {
      "cell_type": "code",
      "execution_count": 46,
      "metadata": {
        "colab": {
          "base_uri": "https://localhost:8080/",
          "height": 53
        },
        "id": "vmFD9xncpsv5",
        "outputId": "325a6f65-7ea0-467b-a6ce-db47ba77d807"
      },
      "outputs": [
        {
          "output_type": "execute_result",
          "data": {
            "text/plain": [
              "'if you like a native speaker , you must be willing to practice the same sentence , and the same phrase over and over less than i can get it more and play it in order to play correctly and eat correctly and less at the time with the night'"
            ],
            "application/vnd.google.colaboratory.intrinsic+json": {
              "type": "string"
            }
          },
          "metadata": {},
          "execution_count": 46
        }
      ],
      "source": [
        "result = model.translate([long_text])\n",
        "result[0].numpy().decode()"
      ]
    },
    {
      "cell_type": "code",
      "execution_count": 47,
      "metadata": {
        "colab": {
          "base_uri": "https://localhost:8080/",
          "height": 1000
        },
        "id": "FxsRt_TjGs3v",
        "outputId": "f5ba1797-a8e7-49e2-fb9a-011ed9ad8617"
      },
      "outputs": [
        {
          "output_type": "stream",
          "name": "stderr",
          "text": [
            "<ipython-input-42-935149928b90>:22: UserWarning: FixedFormatter should only be used together with FixedLocator\n",
            "  ax.set_xticklabels([''] + context, fontdict=fontdict, rotation=90)\n",
            "<ipython-input-42-935149928b90>:23: UserWarning: FixedFormatter should only be used together with FixedLocator\n",
            "  ax.set_yticklabels([''] + output, fontdict=fontdict)\n"
          ]
        },
        {
          "output_type": "display_data",
          "data": {
            "text/plain": [
              "<Figure size 1000x1000 with 1 Axes>"
            ],
            "image/png": "[encoded data removed]"
          },
          "metadata": {}
        }
      ],
      "source": [
        "model.plot_attention(long_text)"
      ]
    },
    {
      "cell_type": "markdown",
      "metadata": {
        "id": "4MJiuYi40q4g"
      },
      "source": [
        "### Saving the model\n",
        "\n",
        "we'll need to wrap the translate method in a tf.function."
      ]
    },
    {
      "cell_type": "code",
      "execution_count": 48,
      "metadata": {
        "id": "i26yr3bd9_2b"
      },
      "outputs": [],
      "source": [
        "class Export(tf.Module):\n",
        "  def __init__(self, model):\n",
        "    self.model = model\n",
        "\n",
        "  @tf.function(input_signature=[tf.TensorSpec(dtype=tf.string, shape=[None])])\n",
        "  def translate(self, inputs):\n",
        "    return self.model.translate(inputs)"
      ]
    },
    {
      "cell_type": "code",
      "execution_count": 49,
      "metadata": {
        "id": "LgKlJwLC-Jf1"
      },
      "outputs": [],
      "source": [
        "export = Export(model)"
      ]
    },
    {
      "cell_type": "code",
      "execution_count": 50,
      "metadata": {
        "colab": {
          "base_uri": "https://localhost:8080/"
        },
        "id": "KLTJTl0R-MX2",
        "outputId": "bf001370-4aaf-415a-da2e-8e6a4b7bbf34"
      },
      "outputs": [
        {
          "output_type": "stream",
          "name": "stdout",
          "text": [
            "CPU times: user 1min 11s, sys: 1.55 s, total: 1min 13s\n",
            "Wall time: 1min 12s\n"
          ]
        }
      ],
      "source": [
        "%%time\n",
        "_ = export.translate(tf.constant(inputs))"
      ]
    },
    {
      "cell_type": "code",
      "execution_count": 51,
      "metadata": {
        "colab": {
          "base_uri": "https://localhost:8080/"
        },
        "id": "Xn5MkHlv-OzR",
        "outputId": "239e34b9-c4bd-4364-c594-4e9cb233e879"
      },
      "outputs": [
        {
          "output_type": "stream",
          "name": "stdout",
          "text": [
            "its very cold here .                                             \n",
            "this is my life .                                             \n",
            "his room is a mess .                                            \n"
          ]
        }
      ],
      "source": [
        "result = export.translate(tf.constant(inputs))\n",
        "\n",
        "print(result[0].numpy().decode())\n",
        "print(result[1].numpy().decode())\n",
        "print(result[2].numpy().decode())"
      ]
    },
    {
      "cell_type": "code",
      "execution_count": 52,
      "metadata": {
        "colab": {
          "base_uri": "https://localhost:8080/"
        },
        "id": "ZMOilRsR-skt",
        "outputId": "5bdf7841-c94f-4bad-e1f4-7fc6c76aa4b1"
      },
      "outputs": [
        {
          "output_type": "stream",
          "name": "stderr",
          "text": [
            "WARNING:tensorflow:Model's `__init__()` arguments contain non-serializable objects. Please implement a `get_config()` method in the subclassed Model for proper saving and loading. Defaulting to empty config.\n",
            "WARNING:tensorflow:Model's `__init__()` arguments contain non-serializable objects. Please implement a `get_config()` method in the subclassed Model for proper saving and loading. Defaulting to empty config.\n",
            "WARNING:absl:Found untraced functions such as embedding_3_layer_call_fn, embedding_3_layer_call_and_return_conditional_losses, embedding_4_layer_call_fn, embedding_4_layer_call_and_return_conditional_losses, bahdanau_attention_2_layer_call_fn while saving (showing 5 of 18). These functions will not be directly callable after loading.\n"
          ]
        }
      ],
      "source": [
        "tf.saved_model.save(export, 'translator', signatures={'serving_default': export.translate})"
      ]
    },
    {
      "cell_type": "code",
      "execution_count": 53,
      "metadata": {
        "id": "z8xPm0HD-zml"
      },
      "outputs": [],
      "source": [
        "reloaded = tf.saved_model.load('translator')\n",
        "_ = reloaded.translate(tf.constant(inputs)) #warmup"
      ]
    },
    {
      "cell_type": "code",
      "execution_count": 54,
      "metadata": {
        "colab": {
          "base_uri": "https://localhost:8080/"
        },
        "id": "452a45Im_Yuf",
        "outputId": "57323a96-123b-4bed-f761-72e48c9c4c3b"
      },
      "outputs": [
        {
          "output_type": "stream",
          "name": "stdout",
          "text": [
            "its very cold here .                                             \n",
            "this is my life .                                             \n",
            "his room is a mess .                                            \n"
          ]
        }
      ],
      "source": [
        "result = reloaded.translate(tf.constant(inputs))\n",
        "\n",
        "print(result[0].numpy().decode())\n",
        "print(result[1].numpy().decode())\n",
        "print(result[2].numpy().decode())"
      ]
    },
    {
      "cell_type": "markdown",
      "metadata": {
        "id": "HEnVDzXv-nvD"
      },
      "source": [
        "The short sentences often work well, but if the input is too long the model literally loses focus and stops providing reasonable predictions."
      ]
    },
    {
      "cell_type": "code",
      "execution_count": 54,
      "metadata": {
        "id": "oT3CQ3DC8MWg"
      },
      "outputs": [],
      "source": []
    }
  ],
  "metadata": {
    "colab": {
      "provenance": []
    },
    "gpuClass": "standard",
    "kernelspec": {
      "display_name": "Python 3",
      "name": "python3"
    },
    "language_info": {
      "name": "python"
    },
    "accelerator": "GPU"
  },
  "nbformat": 4,
  "nbformat_minor": 0
}
